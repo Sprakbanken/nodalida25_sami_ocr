{
 "cells": [
  {
   "cell_type": "markdown",
   "metadata": {},
   "source": [
    "# Get multiple transcriptions\n",
    "Assumes the image directory only contains image files"
   ]
  },
  {
   "cell_type": "code",
   "execution_count": null,
   "metadata": {},
   "outputs": [],
   "source": [
    "import pandas as pd\n",
    "from pathlib import Path \n",
    "from PIL import Image\n",
    "import pytesseract\n",
    "\n",
    "\n",
    "### CHANGE THESE ###\n",
    "image_dir = \"insert_image_dir\"\n",
    "model_name = \"insert_model_name\"\n",
    "### ------------ ###\n",
    "\n",
    "image_dir = Path(image_dir)\n",
    "transcriptions = {\"model_name\": [], \"image\": [], \"transcription\": []}\n",
    "\n",
    "for img in image_dir.iterdir():\n",
    "    transcription = pytesseract.image_to_string(Image.open(img), lang=model_name)\n",
    "    transcriptions[\"image\"].append(img.name)\n",
    "    transcriptions[\"model_name\"].append(model_name)\n",
    "    transcriptions[\"transcription\"].append(transcription)\n",
    "\n",
    "df = pd.DataFrame(transcriptions)\n",
    "df.to_csv(f\"output/{image_dir.name}_{model_name}_transcriptions.csv\", index=False)\n",
    "df"
   ]
  },
  {
   "cell_type": "markdown",
   "metadata": {},
   "source": [
    "# Get multiple transcriptions and ground truth\n",
    "Assumes the ground truth directory contains pairwise text and image files with the same filename (except for the file extension) "
   ]
  },
  {
   "cell_type": "code",
   "execution_count": null,
   "metadata": {},
   "outputs": [],
   "source": [
    "import pandas as pd\n",
    "from pathlib import Path \n",
    "from PIL import Image\n",
    "import pytesseract\n",
    "from tqdm import tqdm\n",
    "\n",
    "### CHANGE THESE ###\n",
    "ground_truth_dir = \"sample_data/\"\n",
    "image_file_ext = \".tif\"\n",
    "text_file_ext = \".txt\"\n",
    "model_name = \"smx_50000\"\n",
    "### ------------ ###\n",
    "\n",
    "ground_truth_dir = Path(ground_truth_dir)\n",
    "transcriptions = {\"model_name\": [], \"image\": [], \"transcription\": [], \"ground_truth\": []}\n",
    "\n",
    "img_files = sorted([e for e in ground_truth_dir.iterdir() if e.suffix == image_file_ext])\n",
    "txt_files = sorted([e for e in ground_truth_dir.iterdir() if e.suffix == text_file_ext])\n",
    "\n",
    "for img_file, txt_file in tqdm(zip(img_files, txt_files), total=len(img_files)):\n",
    "    transcription = pytesseract.image_to_string(Image.open(img_file), lang=model_name)\n",
    "    transcriptions[\"image\"].append(img_file.name)\n",
    "    transcriptions[\"model_name\"].append(model_name)\n",
    "    transcriptions[\"transcription\"].append(transcription)\n",
    "    transcriptions[\"ground_truth\"].append(txt_file.read_text())\n",
    "\n",
    "\n",
    "df = pd.DataFrame(transcriptions)\n",
    "df.to_csv(f\"output/{ground_truth_dir.name}_{model_name}_transcriptions_gt.csv\", index=False)\n",
    "df"
   ]
  }
 ],
 "metadata": {
  "kernelspec": {
   "display_name": "venv_samisk",
   "language": "python",
   "name": "python3"
  },
  "language_info": {
   "codemirror_mode": {
    "name": "ipython",
    "version": 3
   },
   "file_extension": ".py",
   "mimetype": "text/x-python",
   "name": "python",
   "nbconvert_exporter": "python",
   "pygments_lexer": "ipython3",
   "version": "3.10.12"
  }
 },
 "nbformat": 4,
 "nbformat_minor": 2
}
