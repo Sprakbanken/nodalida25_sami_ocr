{
 "cells": [
  {
   "cell_type": "markdown",
   "metadata": {},
   "source": [
    "# Første tegn ulikt\n"
   ]
  },
  {
   "cell_type": "markdown",
   "metadata": {},
   "source": [
    "## Train"
   ]
  },
  {
   "cell_type": "code",
   "execution_count": 12,
   "metadata": {},
   "outputs": [
    {
     "name": "stdout",
     "output_type": "stream",
     "text": [
      "\n",
      "Totalt antall linjer:                               5385   \n",
      "\n",
      "Antall linjer uten prediksjon:                      599 eller 11.12%\n",
      "Antall linjer hvor første tegn er forskjellig:      4001 eller 74.3%\n",
      "Antall linjer hvor siste tegn er forskjellig:       3847 eller 71.44%\n",
      "\n",
      "\n"
     ]
    }
   ],
   "source": [
    "import pandas as pd\n",
    "\n",
    "df = pd.read_csv(\"output/train_nor_smx_30000_transcriptions_gt.csv\")\n",
    "prev_len = len(df)\n",
    "df = df.dropna()\n",
    "df[\"transcription\"] = df.transcription.apply(str).apply(str.strip)\n",
    "\n",
    "first_diff = sum(df.ground_truth.apply(lambda s: s[0]) == df.transcription.apply(lambda s: s[0]))\n",
    "last_diff = sum(df.ground_truth.apply(lambda s: s[-1]) == df.transcription.apply(lambda s: s[-1]))\n",
    "\n",
    "\n",
    "print(f\"\"\"\n",
    "Totalt antall linjer:                               {prev_len}   \n",
    "\n",
    "Antall linjer uten prediksjon:                      {prev_len-len(df)} eller {round((prev_len-len(df))/prev_len*100, 2)}%\n",
    "Antall linjer hvor første tegn er forskjellig:      {first_diff} eller {round(first_diff/prev_len*100, 2)}%\n",
    "Antall linjer hvor siste tegn er forskjellig:       {last_diff} eller {round(last_diff/prev_len*100, 2)}%\n",
    "\n",
    "\"\"\")"
   ]
  },
  {
   "cell_type": "markdown",
   "metadata": {},
   "source": [
    "## Test"
   ]
  },
  {
   "cell_type": "code",
   "execution_count": 17,
   "metadata": {},
   "outputs": [
    {
     "name": "stdout",
     "output_type": "stream",
     "text": [
      "18 linjer fikk ikke prediksjon\n",
      "\n",
      "Antall linjer hvor første tegn er forskjellig: 84, eller 10.62%\n",
      "(Antall linjer uten prediksjon: 18 eller 2.28%)\n"
     ]
    }
   ],
   "source": [
    "from pathlib import Path \n",
    "from PIL import Image\n",
    "import pandas as pd\n",
    "\n",
    "df = pd.read_csv(\"output/test_nor_smx_30000_transcriptions_gt.csv\")\n",
    "prev_len = len(df)\n",
    "df = df.dropna()\n",
    "print(f\"{prev_len-len(df)} linjer fikk ikke prediksjon\\n\")\n",
    "df[\"transcription\"] = df.transcription.apply(str).apply(str.strip)\n",
    "\n",
    "antall = 0\n",
    "test_path = Path(\"data/test\")\n",
    "for e in df.itertuples():\n",
    "    urn = e.image[:-20]\n",
    "    transcription = e.transcription\n",
    "    line = e.ground_truth\n",
    "\n",
    "    if line[0] != transcription[0]:\n",
    "        antall += 1\n",
    "        # print(\"filnavn:\", urn)\n",
    "        # print(\"fasit:\",line)\n",
    "        # print(\"modelltranskripsjon:\", transcription, \"\\nbilde:\")\n",
    "\n",
    "        # image = next(test_path.glob(f\"{urn}*.tif\"))\n",
    "        # img = Image.open(image)\n",
    "        # display(img)\n",
    "        # print(\"-----\\n\")\n",
    "    \n",
    "print(f\"Antall linjer hvor første tegn er forskjellig: {antall}, eller {round(antall/prev_len*100, 2)}%\\n(Antall linjer uten prediksjon: {prev_len-len(df)} eller {round((prev_len-len(df))/prev_len*100, 2)}%)\")"
   ]
  }
 ],
 "metadata": {
  "kernelspec": {
   "display_name": "venv_samisk",
   "language": "python",
   "name": "python3"
  },
  "language_info": {
   "codemirror_mode": {
    "name": "ipython",
    "version": 3
   },
   "file_extension": ".py",
   "mimetype": "text/x-python",
   "name": "python",
   "nbconvert_exporter": "python",
   "pygments_lexer": "ipython3",
   "version": "3.10.12"
  }
 },
 "nbformat": 4,
 "nbformat_minor": 2
}
