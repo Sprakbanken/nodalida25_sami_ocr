{
 "cells": [
  {
   "cell_type": "code",
   "execution_count": 1,
   "metadata": {},
   "outputs": [],
   "source": [
    "import json\n",
    "from pathlib import Path\n",
    "\n",
    "import pandas as pd\n",
    "\n",
    "\n",
    "def round_and_percentage(num: float) -> float:\n",
    "    return round(num * 100, 2)\n",
    "\n",
    "\n",
    "model_prefix_name_map = {\"transk\": \"Transkribus\", \"tess\": \"Tesseract\", \"trocr\": \"TrOCR\"}\n",
    "dataset_map = {\n",
    "    \"ub_smi\": \"GT-Sámi (without base)\",\n",
    "    \"smi\": \"GT-Sámi\",\n",
    "    \"smi_nor\": \"GT-Sámi + GT-Nor\",\n",
    "    \"smi_pred\": \"GT-Sámi + Pred-Sámi\",\n",
    "    \"smi_nor_pred\": \"GT-Sámi + GT-Nor + Pred-Sámi\",\n",
    "}\n",
    "\n",
    "cer_df = pd.DataFrame(\n",
    "    {\n",
    "        \"dataset\": dataset_map.values(),\n",
    "        **{e: [\"\"] * len(dataset_map) for e in model_prefix_name_map.values()},\n",
    "    }\n",
    ")\n",
    "cer_df = cer_df.set_index(\"dataset\")\n",
    "cer_df.columns.name = \"model\"\n",
    "\n",
    "wer_df = cer_df.copy()\n",
    "\n",
    "output_dir = \"../output/evaluation/line_level\"\n",
    "output_dir = Path(output_dir)\n",
    "\n",
    "for model_name in output_dir.iterdir():\n",
    "    if \"smi\" not in model_name.name:\n",
    "        continue\n",
    "    model_prefix, _, model_info = model_name.name.partition(\"_\")\n",
    "\n",
    "    eval_data_file = model_name / \"all_rows.json\"\n",
    "    eval_data = json.loads(eval_data_file.read_text())\n",
    "\n",
    "    cer_df.at[dataset_map[model_info], model_prefix_name_map[model_prefix]] = round_and_percentage(\n",
    "        eval_data[\"CER_concat\"]\n",
    "    )\n",
    "    wer_df.at[dataset_map[model_info], model_prefix_name_map[model_prefix]] = round_and_percentage(\n",
    "        eval_data[\"WER_concat\"]\n",
    "    )"
   ]
  },
  {
   "cell_type": "code",
   "execution_count": null,
   "metadata": {},
   "outputs": [],
   "source": [
    "cer_df"
   ]
  },
  {
   "cell_type": "code",
   "execution_count": null,
   "metadata": {},
   "outputs": [],
   "source": [
    "wer_df"
   ]
  },
  {
   "cell_type": "code",
   "execution_count": 4,
   "metadata": {},
   "outputs": [],
   "source": [
    "def multiline_cell(s: str) -> str:\n",
    "    template_start = r\"\\begin{tabular}[c]{@{}l@{}}\"\n",
    "    template_end = r\"\\end{tabular}\"\n",
    "    return template_start + s + template_end\n",
    "\n",
    "\n",
    "def new_name(s: str) -> str:\n",
    "    if \"(\" in s:\n",
    "        return multiline_cell(s.replace(\"(\", r\"\\\\(\"))\n",
    "    if \"+\" in s:\n",
    "        return multiline_cell(s.replace(\" + \", r\"\\\\+\"))\n",
    "    return s\n",
    "\n",
    "\n",
    "def df_to_latex_df(df: pd.DataFrame) -> pd.DataFrame:\n",
    "    df = df.copy()\n",
    "    df.index = [new_name(e) for e in df.index]\n",
    "    return df\n",
    "\n",
    "\n",
    "def add_hline(latex_code: str) -> str:\n",
    "    m_i = latex_code.index(\"\\\\midrule\\n\")\n",
    "    b_i = latex_code.index(\"\\n\\\\bottomrule\")\n",
    "    mid = latex_code[m_i + len(\"\\\\midrule\\n\") : b_i]\n",
    "    mid = \"\\\\hline\\n\".join(mid.split(\"\\n\"))\n",
    "    latex_code = latex_code[: m_i + len(\"\\\\midrule\\n\")] + mid + latex_code[b_i:]\n",
    "    latex_code = latex_code.replace(r\"\\toprule\", r\"\\hline\")\n",
    "    latex_code = latex_code.replace(r\"\\midrule\", r\"\\hline\")\n",
    "    latex_code = latex_code.replace(r\"\\bottomrule\", r\"\\hline\")\n",
    "    return latex_code"
   ]
  },
  {
   "cell_type": "code",
   "execution_count": 5,
   "metadata": {},
   "outputs": [],
   "source": [
    "def print_latex_table(df: pd.DataFrame):\n",
    "    latex_df = df_to_latex_df(df)\n",
    "    latex_code = latex_df.to_latex(\n",
    "        float_format=\"%.2f\", column_format=\"|\" + \"|\".join([\"l\"] * (len(df.columns) + 1)) + \"|\"\n",
    "    )\n",
    "    print(add_hline(latex_code=latex_code))"
   ]
  },
  {
   "cell_type": "code",
   "execution_count": null,
   "metadata": {},
   "outputs": [],
   "source": [
    "print_latex_table(cer_df)"
   ]
  },
  {
   "cell_type": "code",
   "execution_count": null,
   "metadata": {},
   "outputs": [],
   "source": [
    "print_latex_table(wer_df)"
   ]
  }
 ],
 "metadata": {
  "kernelspec": {
   "display_name": ".venv",
   "language": "python",
   "name": "python3"
  },
  "language_info": {
   "codemirror_mode": {
    "name": "ipython",
    "version": 3
   },
   "file_extension": ".py",
   "mimetype": "text/x-python",
   "name": "python",
   "nbconvert_exporter": "python",
   "pygments_lexer": "ipython3",
   "version": "3.12.4"
  }
 },
 "nbformat": 4,
 "nbformat_minor": 2
}
