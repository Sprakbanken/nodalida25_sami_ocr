{
 "cells": [
  {
   "cell_type": "markdown",
   "metadata": {},
   "source": [
    "# Siste tegn ulikt\n"
   ]
  },
  {
   "cell_type": "code",
   "execution_count": 1,
   "metadata": {},
   "outputs": [
    {
     "name": "stdout",
     "output_type": "stream",
     "text": [
      "Antall linjer hvor siste tegn er forskjellig: 60, eller 7.59%\n"
     ]
    }
   ],
   "source": [
    "from pathlib import Path \n",
    "from PIL import Image\n",
    "import pandas as pd \n",
    "\n",
    "df = pd.read_csv(\"output/test_nor_smx_30000_transcriptions_gt.csv\")\n",
    "prev_len = len(df)\n",
    "df = df.dropna()\n",
    "df[\"transcription\"] = df.transcription.apply(str).apply(str.strip)\n",
    "\n",
    "antall = 0\n",
    "test_path = Path(\"data/test\")\n",
    "for e in df.itertuples():\n",
    "    urn = e.image[:-20]\n",
    "    transcription = e.transcription\n",
    "    line = e.ground_truth\n",
    "\n",
    "    if line[-1] != transcription[-1]:\n",
    "        antall += 1\n",
    "        # print(\"filnavn:\", urn)\n",
    "        # print(\"fasit:\",line)\n",
    "        # print(\"modelltranskripsjon:\", transcription, \"\\nbilde:\")\n",
    "\n",
    "        # image = next(test_path.glob(f\"{urn}*.tif\"))\n",
    "        # img = Image.open(image)\n",
    "        # display(img)\n",
    "        # print(\"-----\\n\")\n",
    "    \n",
    "print(f\"Antall linjer hvor siste tegn er forskjellig: {antall}, eller {round(antall/prev_len*100, 2)}%\")\n"
   ]
  }
 ],
 "metadata": {
  "kernelspec": {
   "display_name": "venv_samisk",
   "language": "python",
   "name": "python3"
  },
  "language_info": {
   "codemirror_mode": {
    "name": "ipython",
    "version": 3
   },
   "file_extension": ".py",
   "mimetype": "text/x-python",
   "name": "python",
   "nbconvert_exporter": "python",
   "pygments_lexer": "ipython3",
   "version": "3.10.12"
  }
 },
 "nbformat": 4,
 "nbformat_minor": 2
}
