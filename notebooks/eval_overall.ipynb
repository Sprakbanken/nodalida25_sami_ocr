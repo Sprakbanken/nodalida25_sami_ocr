{
    "cells": [
        {
            "cell_type": "markdown",
            "metadata": {},
            "source": [
                "# Overall results"
            ]
        },
        {
            "cell_type": "code",
            "execution_count": 1,
            "metadata": {},
            "outputs": [],
            "source": [
                "import json\n",
                "from collections import defaultdict\n",
                "from pathlib import Path\n",
                "\n",
                "import pandas as pd\n",
                "\n",
                "pd.options.plotting.backend = \"plotly\"\n",
                "# level = \"page_level\"\n",
                "level = \"line_level\"\n",
                "\n",
                "\n",
                "plot_data = defaultdict(list)\n",
                "score_data = defaultdict(list)\n",
                "\n",
                "for model_dir in Path(f\"../output/evaluation/{level}\").iterdir():\n",
                "    model_name = model_dir.name\n",
                "    collection_level = json.loads((model_dir / \"all_rows.json\").read_text())\n",
                "\n",
                "    score_data[\"model\"].append(model_name)\n",
                "\n",
                "    for score_name, value in collection_level.items():\n",
                "        if type(value) is dict:\n",
                "            continue\n",
                "        plot_data[\"model\"].append(model_name)\n",
                "        plot_data[\"score\"].append(score_name)\n",
                "        plot_data[\"value\"].append(value)\n",
                "\n",
                "        # add inverted score\n",
                "        plot_data[\"model\"].append(model_name)\n",
                "        plot_data[\"score\"].append(f\"1 - {score_name}\")\n",
                "        plot_data[\"value\"].append(1 - value)\n",
                "\n",
                "        score_data[score_name].append(value)\n",
                "\n",
                "\n",
                "plot_data_df = pd.DataFrame(plot_data)"
            ]
        },
        {
            "cell_type": "code",
            "execution_count": 2,
            "metadata": {},
            "outputs": [
                {
                    "data": {
                        "text/html": [
                            "<div>\n",
                            "<style scoped>\n",
                            "    .dataframe tbody tr th:only-of-type {\n",
                            "        vertical-align: middle;\n",
                            "    }\n",
                            "\n",
                            "    .dataframe tbody tr th {\n",
                            "        vertical-align: top;\n",
                            "    }\n",
                            "\n",
                            "    .dataframe thead th {\n",
                            "        text-align: right;\n",
                            "    }\n",
                            "</style>\n",
                            "<table border=\"1\" class=\"dataframe\">\n",
                            "  <thead>\n",
                            "    <tr style=\"text-align: right;\">\n",
                            "      <th></th>\n",
                            "      <th>model</th>\n",
                            "      <th>score</th>\n",
                            "      <th>value</th>\n",
                            "    </tr>\n",
                            "  </thead>\n",
                            "  <tbody>\n",
                            "    <tr>\n",
                            "      <th>0</th>\n",
                            "      <td>trocr_smi_synth</td>\n",
                            "      <td>WER_mean</td>\n",
                            "      <td>0.056428</td>\n",
                            "    </tr>\n",
                            "    <tr>\n",
                            "      <th>1</th>\n",
                            "      <td>trocr_smi_synth</td>\n",
                            "      <td>1 - WER_mean</td>\n",
                            "      <td>0.943572</td>\n",
                            "    </tr>\n",
                            "    <tr>\n",
                            "      <th>2</th>\n",
                            "      <td>trocr_smi_synth</td>\n",
                            "      <td>CER_mean</td>\n",
                            "      <td>0.016949</td>\n",
                            "    </tr>\n",
                            "    <tr>\n",
                            "      <th>3</th>\n",
                            "      <td>trocr_smi_synth</td>\n",
                            "      <td>1 - CER_mean</td>\n",
                            "      <td>0.983051</td>\n",
                            "    </tr>\n",
                            "    <tr>\n",
                            "      <th>4</th>\n",
                            "      <td>trocr_smi_synth</td>\n",
                            "      <td>WER_concat</td>\n",
                            "      <td>0.050415</td>\n",
                            "    </tr>\n",
                            "    <tr>\n",
                            "      <th>...</th>\n",
                            "      <td>...</td>\n",
                            "      <td>...</td>\n",
                            "      <td>...</td>\n",
                            "    </tr>\n",
                            "    <tr>\n",
                            "      <th>283</th>\n",
                            "      <td>tess_smi_nor_pred</td>\n",
                            "      <td>1 - CER_concat</td>\n",
                            "      <td>0.956001</td>\n",
                            "    </tr>\n",
                            "    <tr>\n",
                            "      <th>284</th>\n",
                            "      <td>tess_smi_nor_pred</td>\n",
                            "      <td>special_char_F1_mean</td>\n",
                            "      <td>0.947585</td>\n",
                            "    </tr>\n",
                            "    <tr>\n",
                            "      <th>285</th>\n",
                            "      <td>tess_smi_nor_pred</td>\n",
                            "      <td>1 - special_char_F1_mean</td>\n",
                            "      <td>0.052415</td>\n",
                            "    </tr>\n",
                            "    <tr>\n",
                            "      <th>286</th>\n",
                            "      <td>tess_smi_nor_pred</td>\n",
                            "      <td>special_char_F1_concat</td>\n",
                            "      <td>0.988841</td>\n",
                            "    </tr>\n",
                            "    <tr>\n",
                            "      <th>287</th>\n",
                            "      <td>tess_smi_nor_pred</td>\n",
                            "      <td>1 - special_char_F1_concat</td>\n",
                            "      <td>0.011159</td>\n",
                            "    </tr>\n",
                            "  </tbody>\n",
                            "</table>\n",
                            "<p>288 rows × 3 columns</p>\n",
                            "</div>"
                        ],
                        "text/plain": [
                            "                 model                       score     value\n",
                            "0      trocr_smi_synth                    WER_mean  0.056428\n",
                            "1      trocr_smi_synth                1 - WER_mean  0.943572\n",
                            "2      trocr_smi_synth                    CER_mean  0.016949\n",
                            "3      trocr_smi_synth                1 - CER_mean  0.983051\n",
                            "4      trocr_smi_synth                  WER_concat  0.050415\n",
                            "..                 ...                         ...       ...\n",
                            "283  tess_smi_nor_pred              1 - CER_concat  0.956001\n",
                            "284  tess_smi_nor_pred        special_char_F1_mean  0.947585\n",
                            "285  tess_smi_nor_pred    1 - special_char_F1_mean  0.052415\n",
                            "286  tess_smi_nor_pred      special_char_F1_concat  0.988841\n",
                            "287  tess_smi_nor_pred  1 - special_char_F1_concat  0.011159\n",
                            "\n",
                            "[288 rows x 3 columns]"
                        ]
                    },
                    "execution_count": 2,
                    "metadata": {},
                    "output_type": "execute_result"
                }
            ],
            "source": [
                "plot_data_df"
            ]
        },
        {
            "cell_type": "code",
            "execution_count": 3,
            "metadata": {},
            "outputs": [],
            "source": [
                "def get_model_colormap(models: list[str]) -> dict[str, str]:\n",
                "    transkribus_models = [e for e in models if \"transk\" in e]\n",
                "    sme_models = [e for e in models if \"sme\" in e]\n",
                "    our_tesseract_models = [\n",
                "        e for e in models if \"smi\" in e and e not in sme_models and e not in transkribus_models\n",
                "    ]\n",
                "    trocr_models = [e for e in models if \"trocr\" in e]\n",
                "\n",
                "    base_models = [\n",
                "        e\n",
                "        for e in models\n",
                "        if not (e in transkribus_models or e in sme_models or e in our_tesseract_models)\n",
                "    ]\n",
                "\n",
                "    greens = [\"#4c9c0a\", \"#287e00\", \"#006000\", \"#004400\", \"#002a00\"]\n",
                "    greys = [\"#f2f1f0\", \"#c0c9cc\", \"#a39d92\", \"#636059\"]\n",
                "    blues = [\n",
                "        \"#68bbe3\",\n",
                "        \"#0e86d4\",\n",
                "        \"#055c9d\",\n",
                "        \"#003060\",\n",
                "        \"#b4f5f0\",\n",
                "        \"#2ceef0\",\n",
                "        \"#0476d0\",\n",
                "        \"#041f60\",\n",
                "    ]\n",
                "    reds = [\n",
                "        \"#ef553b\",\n",
                "        \"#ca3320\",\n",
                "        \"#a60205\",\n",
                "        \"#830000\",\n",
                "        \"#630000\",\n",
                "        \"#ff4410\",\n",
                "        \"#d91700\",\n",
                "        \"#b30000\",\n",
                "        \"#8f0000\",\n",
                "        \"#6e0000\",\n",
                "    ]\n",
                "    purples = [\n",
                "        \"#5d1669\",\n",
                "        \"#e588ff\",\n",
                "        \"#47006d\",\n",
                "        \"#a05bc5\",\n",
                "        \"#ffcbff\",\n",
                "        \"#a057aa\",\n",
                "        \"#733198\",\n",
                "        \"#ce86f4\",\n",
                "        \"#3a0060\",\n",
                "        \"#faccff\",\n",
                "        \"#640099\",\n",
                "        \"#be93fd\",\n",
                "        \"#a178df\",\n",
                "        \"#4e025a\",\n",
                "        \"#dcb0ff\",\n",
                "        \"#845ec2\",\n",
                "    ]\n",
                "    transkribus_models_color_map = {model: greens[i] for i, model in enumerate(transkribus_models)}\n",
                "    tesseract_models_color_map = {model: purples[i] for i, model in enumerate(our_tesseract_models)}\n",
                "    sme_models_color_map = {model: reds[i] for i, model in enumerate(sme_models)}\n",
                "    base_models_color_map = {model: greys[i] for i, model in enumerate(base_models)}\n",
                "    trocr_models_color_map = {model: blues[i] for i, model in enumerate(trocr_models)}\n",
                "\n",
                "    return {\n",
                "        **transkribus_models_color_map,\n",
                "        **tesseract_models_color_map,\n",
                "        **sme_models_color_map,\n",
                "        **base_models_color_map,\n",
                "        **trocr_models_color_map,\n",
                "    }"
            ]
        },
        {
            "cell_type": "code",
            "execution_count": 7,
            "metadata": {},
            "outputs": [
                {
                    "data": {
                        "application/vnd.plotly.v1+json": {
                            "config": {
                                "plotlyServerURL": "https://plot.ly"
                            },
                            "data": [
                                {
                                    "alignmentgroup": "True",
                                    "hovertemplate": "model=trocr_smi_synth<br>score=%{x}<br>value=%{y}<extra></extra>",
                                    "legendgroup": "trocr_smi_synth",
                                    "marker": {
                                        "color": "#68bbe3",
                                        "pattern": {
                                            "shape": ""
                                        }
                                    },
                                    "name": "trocr_smi_synth",
                                    "offsetgroup": "trocr_smi_synth",
                                    "orientation": "v",
                                    "showlegend": true,
                                    "textposition": "auto",
                                    "type": "bar",
                                    "x": [
                                        "CER_concat",
                                        "CER_mean"
                                    ],
                                    "xaxis": "x",
                                    "y": [
                                        0.011466388018112157,
                                        0.01694863012711361
                                    ],
                                    "yaxis": "y"
                                },
                                {
                                    "alignmentgroup": "True",
                                    "hovertemplate": "model=transk_smi_nor_pred<br>score=%{x}<br>value=%{y}<extra></extra>",
                                    "legendgroup": "transk_smi_nor_pred",
                                    "marker": {
                                        "color": "#4c9c0a",
                                        "pattern": {
                                            "shape": ""
                                        }
                                    },
                                    "name": "transk_smi_nor_pred",
                                    "offsetgroup": "transk_smi_nor_pred",
                                    "orientation": "v",
                                    "showlegend": true,
                                    "textposition": "auto",
                                    "type": "bar",
                                    "x": [
                                        "CER_concat",
                                        "CER_mean"
                                    ],
                                    "xaxis": "x",
                                    "y": [
                                        0.011912225705329153,
                                        0.019443657377510377
                                    ],
                                    "yaxis": "y"
                                },
                                {
                                    "alignmentgroup": "True",
                                    "hovertemplate": "model=trocr_smi_pred<br>score=%{x}<br>value=%{y}<extra></extra>",
                                    "legendgroup": "trocr_smi_pred",
                                    "marker": {
                                        "color": "#0e86d4",
                                        "pattern": {
                                            "shape": ""
                                        }
                                    },
                                    "name": "trocr_smi_pred",
                                    "offsetgroup": "trocr_smi_pred",
                                    "orientation": "v",
                                    "showlegend": true,
                                    "textposition": "auto",
                                    "type": "bar",
                                    "x": [
                                        "CER_concat",
                                        "CER_mean"
                                    ],
                                    "xaxis": "x",
                                    "y": [
                                        0.012803901079763149,
                                        0.020541098206326304
                                    ],
                                    "yaxis": "y"
                                },
                                {
                                    "alignmentgroup": "True",
                                    "hovertemplate": "model=trocr_smi_nor_pred<br>score=%{x}<br>value=%{y}<extra></extra>",
                                    "legendgroup": "trocr_smi_nor_pred",
                                    "marker": {
                                        "color": "#055c9d",
                                        "pattern": {
                                            "shape": ""
                                        }
                                    },
                                    "name": "trocr_smi_nor_pred",
                                    "offsetgroup": "trocr_smi_nor_pred",
                                    "orientation": "v",
                                    "showlegend": true,
                                    "textposition": "auto",
                                    "type": "bar",
                                    "x": [
                                        "CER_concat",
                                        "CER_mean"
                                    ],
                                    "xaxis": "x",
                                    "y": [
                                        0.01318007662835249,
                                        0.020792587883537245
                                    ],
                                    "yaxis": "y"
                                },
                                {
                                    "alignmentgroup": "True",
                                    "hovertemplate": "model=transk_smi_nor<br>score=%{x}<br>value=%{y}<extra></extra>",
                                    "legendgroup": "transk_smi_nor",
                                    "marker": {
                                        "color": "#287e00",
                                        "pattern": {
                                            "shape": ""
                                        }
                                    },
                                    "name": "transk_smi_nor",
                                    "offsetgroup": "transk_smi_nor",
                                    "orientation": "v",
                                    "showlegend": true,
                                    "textposition": "auto",
                                    "type": "bar",
                                    "x": [
                                        "CER_concat",
                                        "CER_mean"
                                    ],
                                    "xaxis": "x",
                                    "y": [
                                        0.014531522117729014,
                                        0.023274774413309343
                                    ],
                                    "yaxis": "y"
                                },
                                {
                                    "alignmentgroup": "True",
                                    "hovertemplate": "model=transk_smi<br>score=%{x}<br>value=%{y}<extra></extra>",
                                    "legendgroup": "transk_smi",
                                    "marker": {
                                        "color": "#006000",
                                        "pattern": {
                                            "shape": ""
                                        }
                                    },
                                    "name": "transk_smi",
                                    "offsetgroup": "transk_smi",
                                    "orientation": "v",
                                    "showlegend": true,
                                    "textposition": "auto",
                                    "type": "bar",
                                    "x": [
                                        "CER_concat",
                                        "CER_mean"
                                    ],
                                    "xaxis": "x",
                                    "y": [
                                        0.014740508533611982,
                                        0.023771954986895442
                                    ],
                                    "yaxis": "y"
                                },
                                {
                                    "alignmentgroup": "True",
                                    "hovertemplate": "model=transk_smi_pred<br>score=%{x}<br>value=%{y}<extra></extra>",
                                    "legendgroup": "transk_smi_pred",
                                    "marker": {
                                        "color": "#004400",
                                        "pattern": {
                                            "shape": ""
                                        }
                                    },
                                    "name": "transk_smi_pred",
                                    "offsetgroup": "transk_smi_pred",
                                    "orientation": "v",
                                    "showlegend": true,
                                    "textposition": "auto",
                                    "type": "bar",
                                    "x": [
                                        "CER_concat",
                                        "CER_mean"
                                    ],
                                    "xaxis": "x",
                                    "y": [
                                        0.016147683733890632,
                                        0.025647641077300255
                                    ],
                                    "yaxis": "y"
                                },
                                {
                                    "alignmentgroup": "True",
                                    "hovertemplate": "model=trocr_smi_nor<br>score=%{x}<br>value=%{y}<extra></extra>",
                                    "legendgroup": "trocr_smi_nor",
                                    "marker": {
                                        "color": "#003060",
                                        "pattern": {
                                            "shape": ""
                                        }
                                    },
                                    "name": "trocr_smi_nor",
                                    "offsetgroup": "trocr_smi_nor",
                                    "orientation": "v",
                                    "showlegend": true,
                                    "textposition": "auto",
                                    "type": "bar",
                                    "x": [
                                        "CER_concat",
                                        "CER_mean"
                                    ],
                                    "xaxis": "x",
                                    "y": [
                                        0.019491466388018113,
                                        0.025006191508884695
                                    ],
                                    "yaxis": "y"
                                },
                                {
                                    "alignmentgroup": "True",
                                    "hovertemplate": "model=trocr_smi<br>score=%{x}<br>value=%{y}<extra></extra>",
                                    "legendgroup": "trocr_smi",
                                    "marker": {
                                        "color": "#b4f5f0",
                                        "pattern": {
                                            "shape": ""
                                        }
                                    },
                                    "name": "trocr_smi",
                                    "offsetgroup": "trocr_smi",
                                    "orientation": "v",
                                    "showlegend": true,
                                    "textposition": "auto",
                                    "type": "bar",
                                    "x": [
                                        "CER_concat",
                                        "CER_mean"
                                    ],
                                    "xaxis": "x",
                                    "y": [
                                        0.01983977708115639,
                                        0.02433303789749173
                                    ],
                                    "yaxis": "y"
                                },
                                {
                                    "alignmentgroup": "True",
                                    "hovertemplate": "model=transk_ub_smi<br>score=%{x}<br>value=%{y}<extra></extra>",
                                    "legendgroup": "transk_ub_smi",
                                    "marker": {
                                        "color": "#002a00",
                                        "pattern": {
                                            "shape": ""
                                        }
                                    },
                                    "name": "transk_ub_smi",
                                    "offsetgroup": "transk_ub_smi",
                                    "orientation": "v",
                                    "showlegend": true,
                                    "textposition": "auto",
                                    "type": "bar",
                                    "x": [
                                        "CER_concat",
                                        "CER_mean"
                                    ],
                                    "xaxis": "x",
                                    "y": [
                                        0.02003483106931383,
                                        0.032047080614081784
                                    ],
                                    "yaxis": "y"
                                }
                            ],
                            "layout": {
                                "barmode": "group",
                                "legend": {
                                    "title": {
                                        "text": "model"
                                    },
                                    "tracegroupgap": 0
                                },
                                "margin": {
                                    "t": 60
                                },
                                "template": {
                                    "data": {
                                        "bar": [
                                            {
                                                "error_x": {
                                                    "color": "#2a3f5f"
                                                },
                                                "error_y": {
                                                    "color": "#2a3f5f"
                                                },
                                                "marker": {
                                                    "line": {
                                                        "color": "#E5ECF6",
                                                        "width": 0.5
                                                    },
                                                    "pattern": {
                                                        "fillmode": "overlay",
                                                        "size": 10,
                                                        "solidity": 0.2
                                                    }
                                                },
                                                "type": "bar"
                                            }
                                        ],
                                        "barpolar": [
                                            {
                                                "marker": {
                                                    "line": {
                                                        "color": "#E5ECF6",
                                                        "width": 0.5
                                                    },
                                                    "pattern": {
                                                        "fillmode": "overlay",
                                                        "size": 10,
                                                        "solidity": 0.2
                                                    }
                                                },
                                                "type": "barpolar"
                                            }
                                        ],
                                        "carpet": [
                                            {
                                                "aaxis": {
                                                    "endlinecolor": "#2a3f5f",
                                                    "gridcolor": "white",
                                                    "linecolor": "white",
                                                    "minorgridcolor": "white",
                                                    "startlinecolor": "#2a3f5f"
                                                },
                                                "baxis": {
                                                    "endlinecolor": "#2a3f5f",
                                                    "gridcolor": "white",
                                                    "linecolor": "white",
                                                    "minorgridcolor": "white",
                                                    "startlinecolor": "#2a3f5f"
                                                },
                                                "type": "carpet"
                                            }
                                        ],
                                        "choropleth": [
                                            {
                                                "colorbar": {
                                                    "outlinewidth": 0,
                                                    "ticks": ""
                                                },
                                                "type": "choropleth"
                                            }
                                        ],
                                        "contour": [
                                            {
                                                "colorbar": {
                                                    "outlinewidth": 0,
                                                    "ticks": ""
                                                },
                                                "colorscale": [
                                                    [
                                                        0,
                                                        "#0d0887"
                                                    ],
                                                    [
                                                        0.1111111111111111,
                                                        "#46039f"
                                                    ],
                                                    [
                                                        0.2222222222222222,
                                                        "#7201a8"
                                                    ],
                                                    [
                                                        0.3333333333333333,
                                                        "#9c179e"
                                                    ],
                                                    [
                                                        0.4444444444444444,
                                                        "#bd3786"
                                                    ],
                                                    [
                                                        0.5555555555555556,
                                                        "#d8576b"
                                                    ],
                                                    [
                                                        0.6666666666666666,
                                                        "#ed7953"
                                                    ],
                                                    [
                                                        0.7777777777777778,
                                                        "#fb9f3a"
                                                    ],
                                                    [
                                                        0.8888888888888888,
                                                        "#fdca26"
                                                    ],
                                                    [
                                                        1,
                                                        "#f0f921"
                                                    ]
                                                ],
                                                "type": "contour"
                                            }
                                        ],
                                        "contourcarpet": [
                                            {
                                                "colorbar": {
                                                    "outlinewidth": 0,
                                                    "ticks": ""
                                                },
                                                "type": "contourcarpet"
                                            }
                                        ],
                                        "heatmap": [
                                            {
                                                "colorbar": {
                                                    "outlinewidth": 0,
                                                    "ticks": ""
                                                },
                                                "colorscale": [
                                                    [
                                                        0,
                                                        "#0d0887"
                                                    ],
                                                    [
                                                        0.1111111111111111,
                                                        "#46039f"
                                                    ],
                                                    [
                                                        0.2222222222222222,
                                                        "#7201a8"
                                                    ],
                                                    [
                                                        0.3333333333333333,
                                                        "#9c179e"
                                                    ],
                                                    [
                                                        0.4444444444444444,
                                                        "#bd3786"
                                                    ],
                                                    [
                                                        0.5555555555555556,
                                                        "#d8576b"
                                                    ],
                                                    [
                                                        0.6666666666666666,
                                                        "#ed7953"
                                                    ],
                                                    [
                                                        0.7777777777777778,
                                                        "#fb9f3a"
                                                    ],
                                                    [
                                                        0.8888888888888888,
                                                        "#fdca26"
                                                    ],
                                                    [
                                                        1,
                                                        "#f0f921"
                                                    ]
                                                ],
                                                "type": "heatmap"
                                            }
                                        ],
                                        "heatmapgl": [
                                            {
                                                "colorbar": {
                                                    "outlinewidth": 0,
                                                    "ticks": ""
                                                },
                                                "colorscale": [
                                                    [
                                                        0,
                                                        "#0d0887"
                                                    ],
                                                    [
                                                        0.1111111111111111,
                                                        "#46039f"
                                                    ],
                                                    [
                                                        0.2222222222222222,
                                                        "#7201a8"
                                                    ],
                                                    [
                                                        0.3333333333333333,
                                                        "#9c179e"
                                                    ],
                                                    [
                                                        0.4444444444444444,
                                                        "#bd3786"
                                                    ],
                                                    [
                                                        0.5555555555555556,
                                                        "#d8576b"
                                                    ],
                                                    [
                                                        0.6666666666666666,
                                                        "#ed7953"
                                                    ],
                                                    [
                                                        0.7777777777777778,
                                                        "#fb9f3a"
                                                    ],
                                                    [
                                                        0.8888888888888888,
                                                        "#fdca26"
                                                    ],
                                                    [
                                                        1,
                                                        "#f0f921"
                                                    ]
                                                ],
                                                "type": "heatmapgl"
                                            }
                                        ],
                                        "histogram": [
                                            {
                                                "marker": {
                                                    "pattern": {
                                                        "fillmode": "overlay",
                                                        "size": 10,
                                                        "solidity": 0.2
                                                    }
                                                },
                                                "type": "histogram"
                                            }
                                        ],
                                        "histogram2d": [
                                            {
                                                "colorbar": {
                                                    "outlinewidth": 0,
                                                    "ticks": ""
                                                },
                                                "colorscale": [
                                                    [
                                                        0,
                                                        "#0d0887"
                                                    ],
                                                    [
                                                        0.1111111111111111,
                                                        "#46039f"
                                                    ],
                                                    [
                                                        0.2222222222222222,
                                                        "#7201a8"
                                                    ],
                                                    [
                                                        0.3333333333333333,
                                                        "#9c179e"
                                                    ],
                                                    [
                                                        0.4444444444444444,
                                                        "#bd3786"
                                                    ],
                                                    [
                                                        0.5555555555555556,
                                                        "#d8576b"
                                                    ],
                                                    [
                                                        0.6666666666666666,
                                                        "#ed7953"
                                                    ],
                                                    [
                                                        0.7777777777777778,
                                                        "#fb9f3a"
                                                    ],
                                                    [
                                                        0.8888888888888888,
                                                        "#fdca26"
                                                    ],
                                                    [
                                                        1,
                                                        "#f0f921"
                                                    ]
                                                ],
                                                "type": "histogram2d"
                                            }
                                        ],
                                        "histogram2dcontour": [
                                            {
                                                "colorbar": {
                                                    "outlinewidth": 0,
                                                    "ticks": ""
                                                },
                                                "colorscale": [
                                                    [
                                                        0,
                                                        "#0d0887"
                                                    ],
                                                    [
                                                        0.1111111111111111,
                                                        "#46039f"
                                                    ],
                                                    [
                                                        0.2222222222222222,
                                                        "#7201a8"
                                                    ],
                                                    [
                                                        0.3333333333333333,
                                                        "#9c179e"
                                                    ],
                                                    [
                                                        0.4444444444444444,
                                                        "#bd3786"
                                                    ],
                                                    [
                                                        0.5555555555555556,
                                                        "#d8576b"
                                                    ],
                                                    [
                                                        0.6666666666666666,
                                                        "#ed7953"
                                                    ],
                                                    [
                                                        0.7777777777777778,
                                                        "#fb9f3a"
                                                    ],
                                                    [
                                                        0.8888888888888888,
                                                        "#fdca26"
                                                    ],
                                                    [
                                                        1,
                                                        "#f0f921"
                                                    ]
                                                ],
                                                "type": "histogram2dcontour"
                                            }
                                        ],
                                        "mesh3d": [
                                            {
                                                "colorbar": {
                                                    "outlinewidth": 0,
                                                    "ticks": ""
                                                },
                                                "type": "mesh3d"
                                            }
                                        ],
                                        "parcoords": [
                                            {
                                                "line": {
                                                    "colorbar": {
                                                        "outlinewidth": 0,
                                                        "ticks": ""
                                                    }
                                                },
                                                "type": "parcoords"
                                            }
                                        ],
                                        "pie": [
                                            {
                                                "automargin": true,
                                                "type": "pie"
                                            }
                                        ],
                                        "scatter": [
                                            {
                                                "fillpattern": {
                                                    "fillmode": "overlay",
                                                    "size": 10,
                                                    "solidity": 0.2
                                                },
                                                "type": "scatter"
                                            }
                                        ],
                                        "scatter3d": [
                                            {
                                                "line": {
                                                    "colorbar": {
                                                        "outlinewidth": 0,
                                                        "ticks": ""
                                                    }
                                                },
                                                "marker": {
                                                    "colorbar": {
                                                        "outlinewidth": 0,
                                                        "ticks": ""
                                                    }
                                                },
                                                "type": "scatter3d"
                                            }
                                        ],
                                        "scattercarpet": [
                                            {
                                                "marker": {
                                                    "colorbar": {
                                                        "outlinewidth": 0,
                                                        "ticks": ""
                                                    }
                                                },
                                                "type": "scattercarpet"
                                            }
                                        ],
                                        "scattergeo": [
                                            {
                                                "marker": {
                                                    "colorbar": {
                                                        "outlinewidth": 0,
                                                        "ticks": ""
                                                    }
                                                },
                                                "type": "scattergeo"
                                            }
                                        ],
                                        "scattergl": [
                                            {
                                                "marker": {
                                                    "colorbar": {
                                                        "outlinewidth": 0,
                                                        "ticks": ""
                                                    }
                                                },
                                                "type": "scattergl"
                                            }
                                        ],
                                        "scattermapbox": [
                                            {
                                                "marker": {
                                                    "colorbar": {
                                                        "outlinewidth": 0,
                                                        "ticks": ""
                                                    }
                                                },
                                                "type": "scattermapbox"
                                            }
                                        ],
                                        "scatterpolar": [
                                            {
                                                "marker": {
                                                    "colorbar": {
                                                        "outlinewidth": 0,
                                                        "ticks": ""
                                                    }
                                                },
                                                "type": "scatterpolar"
                                            }
                                        ],
                                        "scatterpolargl": [
                                            {
                                                "marker": {
                                                    "colorbar": {
                                                        "outlinewidth": 0,
                                                        "ticks": ""
                                                    }
                                                },
                                                "type": "scatterpolargl"
                                            }
                                        ],
                                        "scatterternary": [
                                            {
                                                "marker": {
                                                    "colorbar": {
                                                        "outlinewidth": 0,
                                                        "ticks": ""
                                                    }
                                                },
                                                "type": "scatterternary"
                                            }
                                        ],
                                        "surface": [
                                            {
                                                "colorbar": {
                                                    "outlinewidth": 0,
                                                    "ticks": ""
                                                },
                                                "colorscale": [
                                                    [
                                                        0,
                                                        "#0d0887"
                                                    ],
                                                    [
                                                        0.1111111111111111,
                                                        "#46039f"
                                                    ],
                                                    [
                                                        0.2222222222222222,
                                                        "#7201a8"
                                                    ],
                                                    [
                                                        0.3333333333333333,
                                                        "#9c179e"
                                                    ],
                                                    [
                                                        0.4444444444444444,
                                                        "#bd3786"
                                                    ],
                                                    [
                                                        0.5555555555555556,
                                                        "#d8576b"
                                                    ],
                                                    [
                                                        0.6666666666666666,
                                                        "#ed7953"
                                                    ],
                                                    [
                                                        0.7777777777777778,
                                                        "#fb9f3a"
                                                    ],
                                                    [
                                                        0.8888888888888888,
                                                        "#fdca26"
                                                    ],
                                                    [
                                                        1,
                                                        "#f0f921"
                                                    ]
                                                ],
                                                "type": "surface"
                                            }
                                        ],
                                        "table": [
                                            {
                                                "cells": {
                                                    "fill": {
                                                        "color": "#EBF0F8"
                                                    },
                                                    "line": {
                                                        "color": "white"
                                                    }
                                                },
                                                "header": {
                                                    "fill": {
                                                        "color": "#C8D4E3"
                                                    },
                                                    "line": {
                                                        "color": "white"
                                                    }
                                                },
                                                "type": "table"
                                            }
                                        ]
                                    },
                                    "layout": {
                                        "annotationdefaults": {
                                            "arrowcolor": "#2a3f5f",
                                            "arrowhead": 0,
                                            "arrowwidth": 1
                                        },
                                        "autotypenumbers": "strict",
                                        "coloraxis": {
                                            "colorbar": {
                                                "outlinewidth": 0,
                                                "ticks": ""
                                            }
                                        },
                                        "colorscale": {
                                            "diverging": [
                                                [
                                                    0,
                                                    "#8e0152"
                                                ],
                                                [
                                                    0.1,
                                                    "#c51b7d"
                                                ],
                                                [
                                                    0.2,
                                                    "#de77ae"
                                                ],
                                                [
                                                    0.3,
                                                    "#f1b6da"
                                                ],
                                                [
                                                    0.4,
                                                    "#fde0ef"
                                                ],
                                                [
                                                    0.5,
                                                    "#f7f7f7"
                                                ],
                                                [
                                                    0.6,
                                                    "#e6f5d0"
                                                ],
                                                [
                                                    0.7,
                                                    "#b8e186"
                                                ],
                                                [
                                                    0.8,
                                                    "#7fbc41"
                                                ],
                                                [
                                                    0.9,
                                                    "#4d9221"
                                                ],
                                                [
                                                    1,
                                                    "#276419"
                                                ]
                                            ],
                                            "sequential": [
                                                [
                                                    0,
                                                    "#0d0887"
                                                ],
                                                [
                                                    0.1111111111111111,
                                                    "#46039f"
                                                ],
                                                [
                                                    0.2222222222222222,
                                                    "#7201a8"
                                                ],
                                                [
                                                    0.3333333333333333,
                                                    "#9c179e"
                                                ],
                                                [
                                                    0.4444444444444444,
                                                    "#bd3786"
                                                ],
                                                [
                                                    0.5555555555555556,
                                                    "#d8576b"
                                                ],
                                                [
                                                    0.6666666666666666,
                                                    "#ed7953"
                                                ],
                                                [
                                                    0.7777777777777778,
                                                    "#fb9f3a"
                                                ],
                                                [
                                                    0.8888888888888888,
                                                    "#fdca26"
                                                ],
                                                [
                                                    1,
                                                    "#f0f921"
                                                ]
                                            ],
                                            "sequentialminus": [
                                                [
                                                    0,
                                                    "#0d0887"
                                                ],
                                                [
                                                    0.1111111111111111,
                                                    "#46039f"
                                                ],
                                                [
                                                    0.2222222222222222,
                                                    "#7201a8"
                                                ],
                                                [
                                                    0.3333333333333333,
                                                    "#9c179e"
                                                ],
                                                [
                                                    0.4444444444444444,
                                                    "#bd3786"
                                                ],
                                                [
                                                    0.5555555555555556,
                                                    "#d8576b"
                                                ],
                                                [
                                                    0.6666666666666666,
                                                    "#ed7953"
                                                ],
                                                [
                                                    0.7777777777777778,
                                                    "#fb9f3a"
                                                ],
                                                [
                                                    0.8888888888888888,
                                                    "#fdca26"
                                                ],
                                                [
                                                    1,
                                                    "#f0f921"
                                                ]
                                            ]
                                        },
                                        "colorway": [
                                            "#636efa",
                                            "#EF553B",
                                            "#00cc96",
                                            "#ab63fa",
                                            "#FFA15A",
                                            "#19d3f3",
                                            "#FF6692",
                                            "#B6E880",
                                            "#FF97FF",
                                            "#FECB52"
                                        ],
                                        "font": {
                                            "color": "#2a3f5f"
                                        },
                                        "geo": {
                                            "bgcolor": "white",
                                            "lakecolor": "white",
                                            "landcolor": "#E5ECF6",
                                            "showlakes": true,
                                            "showland": true,
                                            "subunitcolor": "white"
                                        },
                                        "hoverlabel": {
                                            "align": "left"
                                        },
                                        "hovermode": "closest",
                                        "mapbox": {
                                            "style": "light"
                                        },
                                        "paper_bgcolor": "white",
                                        "plot_bgcolor": "#E5ECF6",
                                        "polar": {
                                            "angularaxis": {
                                                "gridcolor": "white",
                                                "linecolor": "white",
                                                "ticks": ""
                                            },
                                            "bgcolor": "#E5ECF6",
                                            "radialaxis": {
                                                "gridcolor": "white",
                                                "linecolor": "white",
                                                "ticks": ""
                                            }
                                        },
                                        "scene": {
                                            "xaxis": {
                                                "backgroundcolor": "#E5ECF6",
                                                "gridcolor": "white",
                                                "gridwidth": 2,
                                                "linecolor": "white",
                                                "showbackground": true,
                                                "ticks": "",
                                                "zerolinecolor": "white"
                                            },
                                            "yaxis": {
                                                "backgroundcolor": "#E5ECF6",
                                                "gridcolor": "white",
                                                "gridwidth": 2,
                                                "linecolor": "white",
                                                "showbackground": true,
                                                "ticks": "",
                                                "zerolinecolor": "white"
                                            },
                                            "zaxis": {
                                                "backgroundcolor": "#E5ECF6",
                                                "gridcolor": "white",
                                                "gridwidth": 2,
                                                "linecolor": "white",
                                                "showbackground": true,
                                                "ticks": "",
                                                "zerolinecolor": "white"
                                            }
                                        },
                                        "shapedefaults": {
                                            "line": {
                                                "color": "#2a3f5f"
                                            }
                                        },
                                        "ternary": {
                                            "aaxis": {
                                                "gridcolor": "white",
                                                "linecolor": "white",
                                                "ticks": ""
                                            },
                                            "baxis": {
                                                "gridcolor": "white",
                                                "linecolor": "white",
                                                "ticks": ""
                                            },
                                            "bgcolor": "#E5ECF6",
                                            "caxis": {
                                                "gridcolor": "white",
                                                "linecolor": "white",
                                                "ticks": ""
                                            }
                                        },
                                        "title": {
                                            "x": 0.05
                                        },
                                        "xaxis": {
                                            "automargin": true,
                                            "gridcolor": "white",
                                            "linecolor": "white",
                                            "ticks": "",
                                            "title": {
                                                "standoff": 15
                                            },
                                            "zerolinecolor": "white",
                                            "zerolinewidth": 2
                                        },
                                        "yaxis": {
                                            "automargin": true,
                                            "gridcolor": "white",
                                            "linecolor": "white",
                                            "ticks": "",
                                            "title": {
                                                "standoff": 15
                                            },
                                            "zerolinecolor": "white",
                                            "zerolinewidth": 2
                                        }
                                    }
                                },
                                "xaxis": {
                                    "anchor": "y",
                                    "domain": [
                                        0,
                                        1
                                    ],
                                    "title": {
                                        "text": "score"
                                    }
                                },
                                "yaxis": {
                                    "anchor": "x",
                                    "domain": [
                                        0,
                                        1
                                    ],
                                    "title": {
                                        "text": "value"
                                    }
                                }
                            }
                        }
                    },
                    "metadata": {},
                    "output_type": "display_data"
                }
            ],
            "source": [
                "plot_df = plot_data_df[plot_data_df.score.apply(lambda x: \"1\" not in x)]\n",
                "plot_df = plot_df[plot_df.model.apply(lambda x: \"sme\" not in x)]\n",
                "plot_df = plot_df[plot_df.model.apply(lambda x: \"smi\" in x)]\n",
                "plot_df = plot_df[plot_df.model.apply(lambda x: \"tess\" not in x)]\n",
                "plot_df = plot_df[plot_df.score.apply(lambda x: not \"WER\" in x)]\n",
                "plot_df = plot_df.sort_values(\"value\")\n",
                "\n",
                "color_map = get_model_colormap(list(plot_df.model.unique()))\n",
                "\n",
                "plot_df.plot.bar(x=\"score\", y=\"value\", color=\"model\", barmode=\"group\", color_discrete_map=color_map)"
            ]
        }
    ],
    "metadata": {
        "kernelspec": {
            "display_name": "venv_samisk",
            "language": "python",
            "name": "python3"
        },
        "language_info": {
            "codemirror_mode": {
                "name": "ipython",
                "version": 3
            },
            "file_extension": ".py",
            "mimetype": "text/x-python",
            "name": "python",
            "nbconvert_exporter": "python",
            "pygments_lexer": "ipython3",
            "version": "3.12.4"
        }
    },
    "nbformat": 4,
    "nbformat_minor": 2
}
