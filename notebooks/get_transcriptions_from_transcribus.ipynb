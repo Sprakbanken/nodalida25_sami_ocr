{
 "cells": [
  {
   "cell_type": "code",
   "execution_count": null,
   "metadata": {},
   "outputs": [],
   "source": [
    "import pandas as pd\n",
    "from pathlib import Path \n",
    "\n",
    "### CHANGE THESE ###\n",
    "ground_truth_dir = \"data/test\"\n",
    "prediction_dir = \"data/ordbilder_output/test_transkribus_preds/test/transkribus_med_base\"\n",
    "model_name = \"transkribus_med_base\"\n",
    "### ------------ ###\n",
    "\n",
    "bbox_differs = 0\n",
    "\n",
    "prediction_dir = Path(prediction_dir)\n",
    "ground_truth_dir = Path(ground_truth_dir)\n",
    "metadata_df = pd.read_csv(prediction_dir / \"metadata.csv\")\n",
    "\n",
    "transcriptions = {\"model_name\": [], \"image\": [], \"transcription\": [], \"ground_truth\": [], \"bbox_differs\": []}\n",
    "\n",
    "for e in metadata_df.itertuples():\n",
    "    line_img_stem = Path(e.word_image).stem\n",
    "\n",
    "    # Det har skjedd noe rart med boksene... må korrigere her\n",
    "    stem_stem = line_img_stem[:-20]\n",
    "    gt_text_file = next(ground_truth_dir.glob(f\"{stem_stem}*.gt.txt\"))\n",
    "\n",
    "    transcriptions[\"image\"].append(Path(e.word_image).name)\n",
    "    transcriptions[\"model_name\"].append(model_name)\n",
    "    transcriptions[\"transcription\"].append(e.word)\n",
    "    transcriptions[\"ground_truth\"].append(gt_text_file.read_text())\n",
    "    transcriptions[\"bbox_differs\"].append(line_img_stem != gt_text_file.stem[:-3])\n",
    "\n",
    "\n",
    "df = pd.DataFrame(transcriptions)\n",
    "df_path = Path(f\"output/{ground_truth_dir.name}_{model_name}_transcriptions_gt.csv\")\n",
    "\n",
    "df.to_csv(df_path, index=False)"
   ]
  }
 ],
 "metadata": {
  "kernelspec": {
   "display_name": "venv_samisk",
   "language": "python",
   "name": "python3"
  },
  "language_info": {
   "codemirror_mode": {
    "name": "ipython",
    "version": 3
   },
   "file_extension": ".py",
   "mimetype": "text/x-python",
   "name": "python",
   "nbconvert_exporter": "python",
   "pygments_lexer": "ipython3",
   "version": "3.10.12"
  }
 },
 "nbformat": 4,
 "nbformat_minor": 2
}
