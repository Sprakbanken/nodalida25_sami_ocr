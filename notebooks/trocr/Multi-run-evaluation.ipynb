{
 "cells": [
  {
   "cell_type": "markdown",
   "id": "fd958366-b18d-4e5b-8b64-12b58e837b00",
   "metadata": {},
   "source": [
    "# Sammenlikning av flere modeller"
   ]
  },
  {
   "cell_type": "code",
   "execution_count": 1,
   "id": "4e1d7ed2-7b65-40bc-a29a-0c488e53758e",
   "metadata": {},
   "outputs": [],
   "source": [
    "import base64\n",
    "from pathlib import Path\n",
    "\n",
    "import matplotlib.pyplot as plt\n",
    "import mlflow\n",
    "import pandas as pd\n",
    "from dotenv import load_dotenv\n",
    "from ipywidgets import interact\n",
    "from IPython.display import display, Markdown, HTML\n",
    "\n",
    "import samisk_ocr.trocr\n",
    "from samisk_ocr.metrics import compute_cer, compute_wer, SpecialCharacterF1"
   ]
  },
  {
   "cell_type": "markdown",
   "id": "0cfd1434-76eb-42ad-87b1-2d9d9798cc2c",
   "metadata": {},
   "source": [
    "## Last miljøvariabler"
   ]
  },
  {
   "cell_type": "code",
   "execution_count": 2,
   "id": "6fb19466-05fa-468c-a735-e4f7ce5da0dc",
   "metadata": {},
   "outputs": [
    {
     "data": {
      "text/plain": [
       "True"
      ]
     },
     "execution_count": 2,
     "metadata": {},
     "output_type": "execute_result"
    }
   ],
   "source": [
    "load_dotenv(\"../../.env\")"
   ]
  },
  {
   "cell_type": "markdown",
   "id": "7b382d01-b400-4560-89ab-e145a9168a55",
   "metadata": {},
   "source": [
    "## Last prediksjoner fra MLFLow"
   ]
  },
  {
   "cell_type": "code",
   "execution_count": 3,
   "id": "040d6d1b-76cf-438b-82ab-5871ab6f9dd0",
   "metadata": {},
   "outputs": [],
   "source": [
    "def load_results(run_name: str, iteration: int) -> pd.DataFrame:\n",
    "    config = samisk_ocr.trocr.config.Config()\n",
    "\n",
    "    mlflow.set_tracking_uri(config.mlflow_url)\n",
    "    mlflow.set_experiment(\"TrOCR trocr-base-printed finetuning\")\n",
    "    \n",
    "    # Specify what model we want to load\n",
    "    run_info = mlflow.search_runs(filter_string=f\"run_name = '{run_name}'\").squeeze()\n",
    "    run_id = run_info[\"run_id\"]\n",
    "    \n",
    "    artifact_path = f\"predictions/{iteration:08d}.json\"\n",
    "    predictions = mlflow.artifacts.load_dict(f\"runs:/{run_id}/{artifact_path}\")\n",
    "\n",
    "    metadata = pd.read_csv(config.DATA_PATH / \"metadata.csv\")\n",
    "    \n",
    "    output_folder = Path(\"output\") / f\"{run_name}_{Path(artifact_path).stem}\"\n",
    "    output_folder.mkdir(parents=True, exist_ok=True)\n",
    "\n",
    "    results = pd.merge(\n",
    "        pd.DataFrame(predictions),\n",
    "        metadata.query(\"file_name.str.startswith('val')\"),\n",
    "        left_on=[\"urn\", \"page\", \"line\"],\n",
    "        right_on=[\"urn\", \"page\", \"line\"],\n",
    "        validate=\"1:1\",\n",
    "    )\n",
    "    return (\n",
    "        results.drop(columns=[\"text\", \"xmin\", \"xmax\", \"ymin\", \"ymax\", \"width\", \"height\", \"line\", \"page\", \"text_len\"])\n",
    "        .assign(\n",
    "            cer=results.apply(lambda row: compute_cer(row[\"true\"], row[\"predictions\"]), axis=1),\n",
    "            wer=results.apply(lambda row: compute_wer(row[\"true\"], row[\"predictions\"]), axis=1),\n",
    "            casefolded_cer=results.apply(lambda row: compute_cer(row[\"true\"].casefold(), row[\"predictions\"].casefold()), axis=1),\n",
    "            casefolded_wer=results.apply(lambda row: compute_wer(row[\"true\"].casefold(), row[\"predictions\"].casefold()), axis=1),\n",
    "        )\n",
    "    )"
   ]
  },
  {
   "cell_type": "code",
   "execution_count": 4,
   "id": "224198bf-ef6b-4745-a3d0-0f08cddd2d99",
   "metadata": {},
   "outputs": [
    {
     "data": {
      "application/vnd.jupyter.widget-view+json": {
       "model_id": "5dd7035c5a8841eea1b0a17b01b2aac0",
       "version_major": 2,
       "version_minor": 0
      },
      "text/plain": [
       "Downloading artifacts:   0%|          | 0/1 [00:00<?, ?it/s]"
      ]
     },
     "metadata": {},
     "output_type": "display_data"
    },
    {
     "name": "stdout",
     "output_type": "stream",
     "text": [
      "GTSamisk: nebulous-sponge-430 - 149370\n",
      "Concat CER: 2.14%\n",
      "Concat WER: 9.87%\n",
      "\n"
     ]
    },
    {
     "data": {
      "application/vnd.jupyter.widget-view+json": {
       "model_id": "8f856a1b548d459ea6dc728b70b9b7a6",
       "version_major": 2,
       "version_minor": 0
      },
      "text/plain": [
       "Downloading artifacts:   0%|          | 0/1 [00:00<?, ?it/s]"
      ]
     },
     "metadata": {},
     "output_type": "display_data"
    },
    {
     "name": "stdout",
     "output_type": "stream",
     "text": [
      "GTSamisk og GTNorsk: marvelous-fish-697 - 153495\n",
      "Concat CER: 2.10%\n",
      "Concat WER: 9.65%\n",
      "\n"
     ]
    }
   ],
   "source": [
    "runs = [\n",
    "    (\"nebulous-sponge-430\", 149370, \"GTSamisk\"),\n",
    "    (\"marvelous-fish-697\", 153495, \"GTSamisk og GTNorsk\"),\n",
    "]\n",
    "for run_name, run_iteration, description in runs:\n",
    "    results = load_results(run_name, run_iteration)\n",
    "\n",
    "    concat_pred_cer = \"\".join(results[\"predictions\"])\n",
    "    concat_true_cer = \"\".join(results[\"true\"])\n",
    "    concat_pred_wer = \" \".join(results[\"predictions\"])\n",
    "    concat_true_wer = \" \".join(results[\"true\"])\n",
    "    \n",
    "    concat_cer = compute_cer(concat_true_cer, concat_pred_cer)\n",
    "    concat_wer = compute_wer(concat_true_wer, concat_pred_wer)\n",
    "    \n",
    "    print(f\"{description}: {run_name} - {run_iteration}\")\n",
    "    print(f\"Concat CER: {concat_cer:.2%}\")\n",
    "    print(f\"Concat WER: {concat_wer:.2%}\")\n",
    "    print()\n",
    "    "
   ]
  },
  {
   "cell_type": "code",
   "execution_count": null,
   "id": "b4dd42ee-be39-4fc8-87f8-89e40c1ca9e4",
   "metadata": {},
   "outputs": [],
   "source": []
  },
  {
   "cell_type": "code",
   "execution_count": null,
   "id": "e27067d9-a4a7-4947-a256-4d389b1efaa6",
   "metadata": {},
   "outputs": [],
   "source": []
  }
 ],
 "metadata": {
  "kernelspec": {
   "display_name": "Python 3 (ipykernel)",
   "language": "python",
   "name": "python3"
  },
  "language_info": {
   "codemirror_mode": {
    "name": "ipython",
    "version": 3
   },
   "file_extension": ".py",
   "mimetype": "text/x-python",
   "name": "python",
   "nbconvert_exporter": "python",
   "pygments_lexer": "ipython3",
   "version": "3.12.2"
  }
 },
 "nbformat": 4,
 "nbformat_minor": 5
}
