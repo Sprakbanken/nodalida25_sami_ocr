{
 "cells": [
  {
   "cell_type": "markdown",
   "metadata": {},
   "source": [
    "# Inspiser problematiske linjer"
   ]
  },
  {
   "cell_type": "code",
   "execution_count": null,
   "metadata": {},
   "outputs": [],
   "source": [
    "# Legg til/fjern modeller du vil sammenlikne\n",
    "models = [\"transkribus_med_base\", \"transkribus_uten_base\", \"nor_smx_201\", \"nor_smx_206\"]"
   ]
  },
  {
   "cell_type": "markdown",
   "metadata": {},
   "source": [
    "## For høy relativ Levenstein avstand"
   ]
  },
  {
   "cell_type": "code",
   "execution_count": 2,
   "metadata": {},
   "outputs": [
    {
     "name": "stdout",
     "output_type": "stream",
     "text": [
      "nor_sme\n",
      "Antall problematiske linjer:    90\n",
      "--------\n",
      "smi\n",
      "Antall problematiske linjer:    31\n",
      "--------\n",
      "nor_smi\n",
      "Antall problematiske linjer:    22\n",
      "--------\n",
      "sme_friis\n",
      "Antall problematiske linjer:    803\n",
      "--------\n",
      "sme\n",
      "Antall problematiske linjer:    492\n",
      "--------\n",
      "nor_smi_nor\n",
      "Antall problematiske linjer:    23\n",
      "--------\n",
      "fin_sme\n",
      "Antall problematiske linjer:    96\n",
      "--------\n",
      "fin\n",
      "Antall problematiske linjer:    53\n",
      "--------\n"
     ]
    }
   ],
   "source": [
    "from pathlib import Path\n",
    "\n",
    "import pandas as pd\n",
    "from PIL import Image\n",
    "\n",
    "from samisk_ocr.find_bad_boxes import relative_edit_distance_too_big\n",
    "from samisk_ocr.utils import clean_transcriptions\n",
    "\n",
    "data_p = Path(\"../data/samisk_ocr_dataset/val\")\n",
    "threshold = 0.5\n",
    "\n",
    "for model_dir in Path(\"../output/evaluation/line_level\").iterdir():\n",
    "    # if model_dir.name not in models:\n",
    "    #     continue\n",
    "    print(model_dir.name)\n",
    "    df = pd.read_csv(model_dir / \"row_level.csv\")\n",
    "    df[\"transcription\"] = clean_transcriptions(df.transcription)\n",
    "    df = relative_edit_distance_too_big(df, threshold=threshold)\n",
    "    print(f\"Antall problematiske linjer:    {len(df)}\\n--------\")\n",
    "\n",
    "    # for e in df.itertuples():\n",
    "    #     img = next(data_p.glob(f\"*{e.image}\"), None)\n",
    "    #     if not img:\n",
    "    #         img = next(data_p.glob(f\"*{Path(e.image).stem[:-20]}*.tif\"), None)\n",
    "    #         if not img:\n",
    "    #             print(f\"Fant ikke bildet {e.image} i {data_p}\")\n",
    "    #             continue\n",
    "    #     print(f\"Fasit:      {e.ground_truth}\")\n",
    "    #     print(f\"Prediksjon: {e.transcription}\")\n",
    "\n",
    "    #     img = Image.open(img)\n",
    "    #     display(img)\n",
    "    #     print(\"--------\\n\")"
   ]
  },
  {
   "cell_type": "markdown",
   "metadata": {},
   "source": [
    "## Første tegn feil"
   ]
  },
  {
   "cell_type": "code",
   "execution_count": 4,
   "metadata": {},
   "outputs": [
    {
     "name": "stdout",
     "output_type": "stream",
     "text": [
      "nor_sme\n",
      "Antall problematiske linjer:    277\n",
      "--------\n",
      "smi\n",
      "Antall problematiske linjer:    319\n",
      "--------\n",
      "nor_smi\n",
      "Antall problematiske linjer:    113\n",
      "--------\n",
      "sme_friis\n",
      "Antall problematiske linjer:    1094\n",
      "--------\n",
      "sme\n",
      "Antall problematiske linjer:    758\n",
      "--------\n",
      "nor_smi_nor\n",
      "Antall problematiske linjer:    129\n",
      "--------\n",
      "fin_sme\n",
      "Antall problematiske linjer:    383\n",
      "--------\n",
      "fin\n",
      "Antall problematiske linjer:    342\n",
      "--------\n"
     ]
    }
   ],
   "source": [
    "from pathlib import Path\n",
    "\n",
    "import pandas as pd\n",
    "from PIL import Image\n",
    "\n",
    "from samisk_ocr.find_bad_boxes import first_char_different\n",
    "from samisk_ocr.utils import clean_transcriptions\n",
    "\n",
    "data_p = Path(\"../data/samisk_ocr_dataset/val\")\n",
    "\n",
    "for model_dir in Path(\"../output/evaluation/line_level\").iterdir():\n",
    "    # if model_dir.name not in models:\n",
    "    #     continue\n",
    "    print(model_dir.name)\n",
    "    df = pd.read_csv(model_dir / \"row_level.csv\")\n",
    "    df[\"transcription\"] = clean_transcriptions(df.transcription)\n",
    "    df = first_char_different(df)\n",
    "    print(f\"Antall problematiske linjer:    {len(df)}\\n--------\")\n",
    "\n",
    "    # for e in df.itertuples():\n",
    "    #     try:\n",
    "    #         img = next(data_p.glob(f\"*{e.image}\"))\n",
    "    #     except Exception as _:\n",
    "    #         print(f\"Fant ikke bildet {e.image} i {data_p}\")\n",
    "    #         continue\n",
    "    #     print(f\"Fasit:      {e.ground_truth}\")\n",
    "    #     print(f\"Prediksjon: {e.transcription}\")\n",
    "\n",
    "    #     img = Image.open(img)\n",
    "    #     display(img)\n",
    "    #     print(\"--------\\n\")"
   ]
  },
  {
   "cell_type": "markdown",
   "metadata": {},
   "source": [
    "## Siste tegn feil"
   ]
  },
  {
   "cell_type": "code",
   "execution_count": 6,
   "metadata": {},
   "outputs": [
    {
     "name": "stdout",
     "output_type": "stream",
     "text": [
      "nor_sme\n",
      "Antall problematiske linjer:    348\n",
      "--------\n",
      "smi\n",
      "Antall problematiske linjer:    343\n",
      "--------\n",
      "nor_smi\n",
      "Antall problematiske linjer:    226\n",
      "--------\n",
      "sme_friis\n",
      "Antall problematiske linjer:    1085\n",
      "--------\n",
      "sme\n",
      "Antall problematiske linjer:    712\n",
      "--------\n",
      "nor_smi_nor\n",
      "Antall problematiske linjer:    222\n",
      "--------\n",
      "fin_sme\n",
      "Antall problematiske linjer:    381\n",
      "--------\n",
      "fin\n",
      "Antall problematiske linjer:    357\n",
      "--------\n"
     ]
    }
   ],
   "source": [
    "from pathlib import Path\n",
    "\n",
    "import pandas as pd\n",
    "from PIL import Image\n",
    "\n",
    "from samisk_ocr.find_bad_boxes import last_char_different\n",
    "from samisk_ocr.utils import clean_transcriptions\n",
    "\n",
    "data_p = Path(\"../data/samisk_ocr_dataset/val\")\n",
    "\n",
    "\n",
    "models = [\"transkribus_med_base\", \"transkribus_uten_base\", \"nor_smx_201\", \"nor_smx_206\"]\n",
    "\n",
    "\n",
    "for model_dir in Path(\"../output/evaluation/line_level\").iterdir():\n",
    "    # if model_dir.name not in models:\n",
    "    #     continue\n",
    "    print(model_dir.name)\n",
    "    df = pd.read_csv(model_dir / \"row_level.csv\")\n",
    "    df[\"transcription\"] = clean_transcriptions(df.transcription)\n",
    "    df = last_char_different(df)\n",
    "    print(f\"Antall problematiske linjer:    {len(df)}\\n--------\")\n",
    "\n",
    "    # for e in df.itertuples():\n",
    "    #     try:\n",
    "    #         img = next(data_p.glob(f\"*{e.image}\"))\n",
    "    #     except Exception as _:\n",
    "    #         print(f\"Fant ikke bildet {e.image} i {data_p}\")\n",
    "    #         continue\n",
    "    #     print(f\"Fasit:      {e.ground_truth}\")\n",
    "    #     print(f\"Prediksjon: {e.transcription}\")\n",
    "\n",
    "    #     img = Image.open(img)\n",
    "    #     display(img)\n",
    "    #     print(\"--------\\n\")"
   ]
  },
  {
   "cell_type": "markdown",
   "metadata": {},
   "source": [
    "## Ingen prediksjon"
   ]
  },
  {
   "cell_type": "code",
   "execution_count": 7,
   "metadata": {},
   "outputs": [
    {
     "name": "stdout",
     "output_type": "stream",
     "text": [
      "nor_sme\n",
      "Antall problematiske linjer:    0\n",
      "--------\n",
      "smi\n",
      "Antall problematiske linjer:    0\n",
      "--------\n",
      "nor_smi\n",
      "Antall problematiske linjer:    0\n",
      "--------\n",
      "sme_friis\n",
      "Antall problematiske linjer:    0\n",
      "--------\n",
      "sme\n",
      "Antall problematiske linjer:    0\n",
      "--------\n",
      "nor_smi_nor\n",
      "Antall problematiske linjer:    0\n",
      "--------\n",
      "fin_sme\n",
      "Antall problematiske linjer:    0\n",
      "--------\n",
      "fin\n",
      "Antall problematiske linjer:    0\n",
      "--------\n"
     ]
    }
   ],
   "source": [
    "from pathlib import Path\n",
    "\n",
    "import pandas as pd\n",
    "\n",
    "data_p = Path(\"../data/samisk_ocr_dataset/val\")\n",
    "\n",
    "for model_dir in Path(\"../output/evaluation/line_level\").iterdir():\n",
    "    # if model_dir.name not in models:\n",
    "    #     continue\n",
    "    df = pd.read_csv(model_dir / \"row_level.csv\")\n",
    "    df = df[df.transcription.isna()]\n",
    "    print(f\"{model_dir.name}\\nAntall problematiske linjer:    {len(df)}\\n--------\")\n",
    "\n",
    "    # for e in df.itertuples():\n",
    "    #     try:\n",
    "    #         img = next(data_p.glob(f\"*{e.image}\"))\n",
    "    #     except Exception as _:\n",
    "    #         print(f\"Fant ikke bildet {e.image} i {data_p}\")\n",
    "    #         continue\n",
    "    #     print(e.image)\n",
    "    #     print(f\"Fasit:      {e.ground_truth}\")\n",
    "    #     img = Image.open(img)\n",
    "    #     display(img)\n",
    "    #     print(\"--------\\n\")"
   ]
  }
 ],
 "metadata": {
  "kernelspec": {
   "display_name": "Python 3 (ipykernel)",
   "language": "python",
   "name": "python3"
  },
  "language_info": {
   "codemirror_mode": {
    "name": "ipython",
    "version": 3
   },
   "file_extension": ".py",
   "mimetype": "text/x-python",
   "name": "python",
   "nbconvert_exporter": "python",
   "pygments_lexer": "ipython3",
   "version": "3.12.4"
  }
 },
 "nbformat": 4,
 "nbformat_minor": 4
}
