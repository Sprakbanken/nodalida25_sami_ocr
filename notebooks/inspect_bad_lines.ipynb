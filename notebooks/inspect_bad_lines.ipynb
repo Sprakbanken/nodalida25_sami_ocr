{
 "cells": [
  {
   "cell_type": "markdown",
   "metadata": {},
   "source": [
    "# Inspiser problematiske linjer"
   ]
  },
  {
   "cell_type": "markdown",
   "metadata": {},
   "source": [
    "## Ingen prediksjon"
   ]
  },
  {
   "cell_type": "code",
   "execution_count": null,
   "metadata": {},
   "outputs": [],
   "source": [
    "import pandas as pd\n",
    "from PIL import Image\n",
    "from pathlib import Path\n",
    "\n",
    "### CHANGE THESE ###\n",
    "csv_p = \"../output/test_nor_smx_30000_transcriptions_gt.csv\"\n",
    "### ------------ ###\n",
    "\n",
    "data_p = Path(\"../data/\")\n",
    "\n",
    "df = pd.read_csv(csv_p)\n",
    "df = df[df.transcription.isna()]\n",
    "\n",
    "print(f\"Antall problematiske linjer:    {len(df)}\\n--------\")\n",
    "\n",
    "for e in df.itertuples():\n",
    "    try:\n",
    "        img = next(data_p.glob(f\"*/{e.image}\"))\n",
    "    except Exception as e:\n",
    "        print(f\"Fant ikke bildet {e.image} i {data_p}\")\n",
    "        continue\n",
    "    print(f\"Fasit:      {e.ground_truth}\")\n",
    "    img = Image.open(img)\n",
    "    display(img)\n",
    "    print(\"--------\\n\")"
   ]
  },
  {
   "cell_type": "markdown",
   "metadata": {},
   "source": [
    "## For høy relativ Levenstein avstand"
   ]
  },
  {
   "cell_type": "code",
   "execution_count": null,
   "metadata": {},
   "outputs": [],
   "source": [
    "import pandas as pd\n",
    "from find_bad_boxes import relative_edit_distance_too_big\n",
    "from utils import clean_transcriptions\n",
    "from PIL import Image\n",
    "from pathlib import Path\n",
    "\n",
    "### CHANGE THESE ###\n",
    "csv_p = \"../output/test_nor_smx_30000_transcriptions_gt.csv\"\n",
    "threshold = 0.5\n",
    "### ------------ ###\n",
    "\n",
    "data_p = Path(\"../data/\")\n",
    "\n",
    "df = pd.read_csv(csv_p)\n",
    "df = df.dropna()\n",
    "df[\"transcription\"] = clean_transcriptions(df.transcription)\n",
    "df = relative_edit_distance_too_big(df, threshold=threshold)\n",
    "\n",
    "print(f\"Antall problematiske linjer:    {len(df)}\\n--------\")\n",
    "\n",
    "for e in df.itertuples():\n",
    "    try:\n",
    "        img = next(data_p.glob(f\"*/{e.image}\"))\n",
    "    except Exception as e:\n",
    "        print(f\"Fant ikke bildet {e.image} i {data_p}\")\n",
    "        continue\n",
    "    print(f\"Fasit:      {e.ground_truth}\")\n",
    "    print(f\"Prediksjon: {e.transcription}\")\n",
    "    img = Image.open(img)\n",
    "    display(img)\n",
    "    print(\"--------\\n\")"
   ]
  },
  {
   "cell_type": "markdown",
   "metadata": {},
   "source": [
    "## Første tegn feil"
   ]
  },
  {
   "cell_type": "code",
   "execution_count": null,
   "metadata": {},
   "outputs": [],
   "source": [
    "import pandas as pd\n",
    "from find_bad_boxes import first_char_different\n",
    "from utils import clean_transcriptions\n",
    "from PIL import Image\n",
    "from pathlib import Path\n",
    "\n",
    "### CHANGE THIS ###\n",
    "csv_p = \"../output/test_nor_smx_30000_transcriptions_gt.csv\"\n",
    "### ------------ ###\n",
    "\n",
    "data_p = Path(\"../data/\")\n",
    "\n",
    "df = pd.read_csv(csv_p)\n",
    "df = df.dropna()\n",
    "df[\"transcription\"] = clean_transcriptions(df.transcription)\n",
    "df = first_char_different(df)\n",
    "\n",
    "print(f\"Antall problematiske linjer:    {len(df)}\\n--------\")\n",
    "\n",
    "for e in df.itertuples():\n",
    "    try:\n",
    "        img = next(data_p.glob(f\"*/{e.image}\"))\n",
    "    except Exception as e:\n",
    "        print(f\"Fant ikke bildet {e.image} i {data_p}\")\n",
    "        continue\n",
    "    print(f\"Fasit:      {e.ground_truth}\")\n",
    "    print(f\"Prediksjon: {e.transcription}\")\n",
    "    img = Image.open(img)\n",
    "    display(img)\n",
    "    print(\"--------\\n\")"
   ]
  },
  {
   "cell_type": "code",
   "execution_count": null,
   "metadata": {},
   "outputs": [],
   "source": [
    "import pandas as pd\n",
    "from find_bad_boxes import last_char_different\n",
    "from utils import clean_transcriptions\n",
    "from PIL import Image\n",
    "from pathlib import Path\n",
    "\n",
    "### CHANGE THIS ###\n",
    "csv_p = \"../output/test_nor_smx_30000_transcriptions_gt.csv\"\n",
    "### ------------ ###\n",
    "\n",
    "data_p = Path(\"../data/\")\n",
    "\n",
    "df = pd.read_csv(csv_p)\n",
    "df = df.dropna()\n",
    "df[\"transcription\"] = clean_transcriptions(df.transcription)\n",
    "df = last_char_different(df)\n",
    "\n",
    "print(f\"Antall problematiske linjer:    {len(df)}\\n--------\")\n",
    "\n",
    "for e in df.itertuples():\n",
    "    try:\n",
    "        img = next(data_p.glob(f\"*/{e.image}\"))\n",
    "    except Exception as e:\n",
    "        print(f\"Fant ikke bildet {e.image} i {data_p}\")\n",
    "        continue\n",
    "    print(f\"Fasit:      {e.ground_truth}\")\n",
    "    print(f\"Prediksjon: {e.transcription}\")\n",
    "    img = Image.open(img)\n",
    "    display(img)\n",
    "    print(\"--------\\n\")"
   ]
  }
 ],
 "metadata": {
  "kernelspec": {
   "display_name": "venv_samisk",
   "language": "python",
   "name": "python3"
  },
  "language_info": {
   "codemirror_mode": {
    "name": "ipython",
    "version": 3
   },
   "file_extension": ".py",
   "mimetype": "text/x-python",
   "name": "python",
   "nbconvert_exporter": "python",
   "pygments_lexer": "ipython3",
   "version": "3.11.8"
  }
 },
 "nbformat": 4,
 "nbformat_minor": 2
}
