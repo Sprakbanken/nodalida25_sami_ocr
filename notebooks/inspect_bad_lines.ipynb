{
 "cells": [
  {
   "cell_type": "markdown",
   "metadata": {},
   "source": [
    "# Inspiser problematiske linjer"
   ]
  },
  {
   "cell_type": "code",
   "execution_count": 1,
   "metadata": {},
   "outputs": [],
   "source": [
    "# Legg til/fjern modeller du vil sammenlikne\n",
    "models = [\"transkribus_med_base\", \"transkribus_uten_base\", \"nor_smx_201\", \"nor_smx_206\"]"
   ]
  },
  {
   "cell_type": "markdown",
   "metadata": {},
   "source": [
    "## For høy relativ Levenstein avstand"
   ]
  },
  {
   "cell_type": "code",
   "execution_count": 2,
   "metadata": {},
   "outputs": [
    {
     "name": "stdout",
     "output_type": "stream",
     "text": [
      "transkribus_med_base\n",
      "Antall problematiske linjer:    1\n",
      "--------\n",
      "nor_smx_206\n",
      "Antall problematiske linjer:    0\n",
      "--------\n",
      "nor_smx_201\n",
      "Antall problematiske linjer:    0\n",
      "--------\n",
      "transkribus_uten_base\n",
      "Antall problematiske linjer:    0\n",
      "--------\n"
     ]
    }
   ],
   "source": [
    "from pathlib import Path\n",
    "\n",
    "import pandas as pd\n",
    "from PIL import Image\n",
    "\n",
    "from samisk_ocr.find_bad_boxes import relative_edit_distance_too_big\n",
    "from samisk_ocr.utils import clean_transcriptions\n",
    "\n",
    "data_p = Path(\"../data/line_level/test\")\n",
    "threshold = 0.5\n",
    "\n",
    "for model_dir in Path(\"../output/evaluation/line_level\").iterdir():\n",
    "    if model_dir.name not in models:\n",
    "        continue\n",
    "    print(model_dir.name)\n",
    "    df = pd.read_csv(model_dir / \"row_level.csv\")\n",
    "    df[\"transcription\"] = clean_transcriptions(df.transcription)\n",
    "    df = relative_edit_distance_too_big(df, threshold=threshold)\n",
    "    print(f\"Antall problematiske linjer:    {len(df)}\\n--------\")\n",
    "\n",
    "    # for e in df.itertuples():\n",
    "    #     img = next(data_p.glob(f\"*{e.image}\"), None)\n",
    "    #     if not img:\n",
    "    #         img = next(data_p.glob(f\"*{Path(e.image).stem[:-20]}*.tif\"), None)\n",
    "    #         if not img:\n",
    "    #             print(f\"Fant ikke bildet {e.image} i {data_p}\")\n",
    "    #             continue\n",
    "    #     print(f\"Fasit:      {e.ground_truth}\")\n",
    "    #     print(f\"Prediksjon: {e.transcription}\")\n",
    "\n",
    "    #     img = Image.open(img)\n",
    "    #     display(img)\n",
    "    #     print(\"--------\\n\")"
   ]
  },
  {
   "cell_type": "markdown",
   "metadata": {},
   "source": [
    "## Første tegn feil"
   ]
  },
  {
   "cell_type": "code",
   "execution_count": 3,
   "metadata": {},
   "outputs": [
    {
     "name": "stdout",
     "output_type": "stream",
     "text": [
      "transkribus_med_base\n",
      "Antall problematiske linjer:    9\n",
      "--------\n",
      "nor_smx_206\n",
      "Antall problematiske linjer:    15\n",
      "--------\n",
      "nor_smx_201\n",
      "Antall problematiske linjer:    19\n",
      "--------\n",
      "transkribus_uten_base\n",
      "Antall problematiske linjer:    9\n",
      "--------\n"
     ]
    }
   ],
   "source": [
    "from pathlib import Path\n",
    "\n",
    "import pandas as pd\n",
    "from PIL import Image\n",
    "\n",
    "from samisk_ocr.find_bad_boxes import first_char_different\n",
    "from samisk_ocr.utils import clean_transcriptions\n",
    "\n",
    "data_p = Path(\"../data/line_level/test\")\n",
    "\n",
    "for model_dir in Path(\"../output/evaluation/line_level\").iterdir():\n",
    "    if model_dir.name not in models:\n",
    "        continue\n",
    "    print(model_dir.name)\n",
    "    df = pd.read_csv(model_dir / \"row_level.csv\")\n",
    "    df[\"transcription\"] = clean_transcriptions(df.transcription)\n",
    "    df = first_char_different(df)\n",
    "    print(f\"Antall problematiske linjer:    {len(df)}\\n--------\")\n",
    "\n",
    "    # for e in df.itertuples():\n",
    "    #     try:\n",
    "    #         img = next(data_p.glob(f\"*{e.image}\"))\n",
    "    #     except Exception as _:\n",
    "    #         print(f\"Fant ikke bildet {e.image} i {data_p}\")\n",
    "    #         continue\n",
    "    #     print(f\"Fasit:      {e.ground_truth}\")\n",
    "    #     print(f\"Prediksjon: {e.transcription}\")\n",
    "\n",
    "    #     img = Image.open(img)\n",
    "    #     display(img)\n",
    "    #     print(\"--------\\n\")"
   ]
  },
  {
   "cell_type": "markdown",
   "metadata": {},
   "source": [
    "## Siste tegn feil"
   ]
  },
  {
   "cell_type": "code",
   "execution_count": 4,
   "metadata": {},
   "outputs": [
    {
     "name": "stdout",
     "output_type": "stream",
     "text": [
      "transkribus_med_base\n",
      "Antall problematiske linjer:    2\n",
      "--------\n",
      "nor_smx_206\n",
      "Antall problematiske linjer:    2\n",
      "--------\n",
      "nor_smx_201\n",
      "Antall problematiske linjer:    2\n",
      "--------\n",
      "transkribus_uten_base\n",
      "Antall problematiske linjer:    10\n",
      "--------\n"
     ]
    }
   ],
   "source": [
    "from pathlib import Path\n",
    "\n",
    "import pandas as pd\n",
    "from PIL import Image\n",
    "\n",
    "from samisk_ocr.find_bad_boxes import last_char_different\n",
    "from samisk_ocr.utils import clean_transcriptions\n",
    "\n",
    "data_p = Path(\"../data/line_level/test\")\n",
    "\n",
    "\n",
    "models = [\"transkribus_med_base\", \"transkribus_uten_base\", \"nor_smx_201\", \"nor_smx_206\"]\n",
    "\n",
    "\n",
    "for model_dir in Path(\"../output/evaluation/line_level\").iterdir():\n",
    "    if model_dir.name not in models:\n",
    "        continue\n",
    "    print(model_dir.name)\n",
    "    df = pd.read_csv(model_dir / \"row_level.csv\")\n",
    "    df[\"transcription\"] = clean_transcriptions(df.transcription)\n",
    "    df = last_char_different(df)\n",
    "    print(f\"Antall problematiske linjer:    {len(df)}\\n--------\")\n",
    "\n",
    "    # for e in df.itertuples():\n",
    "    #     try:\n",
    "    #         img = next(data_p.glob(f\"*{e.image}\"))\n",
    "    #     except Exception as _:\n",
    "    #         print(f\"Fant ikke bildet {e.image} i {data_p}\")\n",
    "    #         continue\n",
    "    #     print(f\"Fasit:      {e.ground_truth}\")\n",
    "    #     print(f\"Prediksjon: {e.transcription}\")\n",
    "\n",
    "    #     img = Image.open(img)\n",
    "    #     display(img)\n",
    "    #     print(\"--------\\n\")"
   ]
  },
  {
   "cell_type": "markdown",
   "metadata": {},
   "source": [
    "## Ingen prediksjon"
   ]
  },
  {
   "cell_type": "code",
   "execution_count": 5,
   "metadata": {},
   "outputs": [
    {
     "name": "stdout",
     "output_type": "stream",
     "text": [
      "transkribus_med_base\n",
      "Antall problematiske linjer:    0\n",
      "--------\n",
      "nor_smx_206\n",
      "Antall problematiske linjer:    0\n",
      "--------\n",
      "nor_smx_201\n",
      "Antall problematiske linjer:    0\n",
      "--------\n",
      "transkribus_uten_base\n",
      "Antall problematiske linjer:    0\n",
      "--------\n"
     ]
    }
   ],
   "source": [
    "from pathlib import Path\n",
    "\n",
    "import pandas as pd\n",
    "\n",
    "data_p = Path(\"../data/line_level/test\")\n",
    "\n",
    "for model_dir in Path(\"../output/evaluation/line_level\").iterdir():\n",
    "    if model_dir.name not in models:\n",
    "        continue\n",
    "    df = pd.read_csv(model_dir / \"row_level.csv\")\n",
    "    df = df[df.transcription.isna()]\n",
    "    print(f\"{model_dir.name}\\nAntall problematiske linjer:    {len(df)}\\n--------\")\n",
    "\n",
    "    # for e in df.itertuples():\n",
    "    #     try:\n",
    "    #         img = next(data_p.glob(f\"*{e.image}\"))\n",
    "    #     except Exception as _:\n",
    "    #         print(f\"Fant ikke bildet {e.image} i {data_p}\")\n",
    "    #         continue\n",
    "    #     print(e.image)\n",
    "    #     print(f\"Fasit:      {e.ground_truth}\")\n",
    "    #     img = Image.open(img)\n",
    "    #     display(img)\n",
    "    #     print(\"--------\\n\")"
   ]
  }
 ],
 "metadata": {
  "kernelspec": {
   "display_name": "Python 3 (ipykernel)",
   "language": "python",
   "name": "python3"
  },
  "language_info": {
   "codemirror_mode": {
    "name": "ipython",
    "version": 3
   },
   "file_extension": ".py",
   "mimetype": "text/x-python",
   "name": "python",
   "nbconvert_exporter": "python",
   "pygments_lexer": "ipython3",
   "version": "3.12.2"
  }
 },
 "nbformat": 4,
 "nbformat_minor": 4
}
