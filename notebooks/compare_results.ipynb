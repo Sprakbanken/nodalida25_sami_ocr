{
 "cells": [
  {
   "cell_type": "markdown",
   "metadata": {},
   "source": [
    "# Visualize and print results on test set "
   ]
  },
  {
   "cell_type": "code",
   "execution_count": 10,
   "metadata": {},
   "outputs": [],
   "source": [
    "from collections import defaultdict\n",
    "import pandas as pd \n",
    "from pathlib import Path \n",
    "from jiwer import wer, cer\n",
    "\n",
    "pd.options.plotting.backend = \"plotly\"\n",
    "\n",
    "def print_results(dfs: list[pd.DataFrame]):\n",
    "    def to_percent(num):\n",
    "        return round(num*100, 2)\n",
    "\n",
    "    for df in dfs:\n",
    "        df.transcription = df.transcription.apply(lambda x: str(x).strip())\n",
    "        df[\"correct_prediction\"] = df.transcription == df.ground_truth\n",
    "        df[\"wer\"] = wer(reference=df.ground_truth.to_list(), hypothesis=df.transcription.to_list())\n",
    "        df[\"cer\"] = cer(reference=df.ground_truth.to_list(), hypothesis=df.transcription.to_list())\n",
    "\n",
    "        all_transcriptions = \" \".join(df.transcription)\n",
    "        all_gt = \" \".join(df.ground_truth)\n",
    "        all_wer = wer(hypothesis=all_transcriptions, reference=all_gt)\n",
    "        all_cer = cer(hypothesis=all_transcriptions, reference=all_gt)\n",
    "        mean_wer = df.wer.mean()\n",
    "        mean_cer = df.cer.mean()\n",
    "        accuracy = len(df[df.correct_prediction])/len(df)\n",
    "        \n",
    "        print(f\"\"\"{df.model_name[0]}\n",
    "    Strict accuracy:    {to_percent(accuracy)}%\n",
    "\n",
    "    Mean WER:           {to_percent(mean_wer)}%\n",
    "    WER (all concat):   {to_percent(all_wer)}%\n",
    "\n",
    "    Mean CER:           {to_percent(mean_cer)}%\n",
    "    CER (all concat):   {to_percent(all_cer)}%\\n\"\"\")\n",
    "        \n",
    "\n",
    "def dfs_to_score_df(dfs: list[pd.DataFrame]) -> pd.DataFrame:\n",
    "    scores = defaultdict(list)\n",
    "    for df in dfs:\n",
    "        df.transcription = df.transcription.apply(lambda x: str(x).strip())\n",
    "        df[\"correct_prediction\"] = df.transcription == df.ground_truth\n",
    "        df[\"wer\"] = wer(reference=df.ground_truth.to_list(), hypothesis=df.transcription.to_list())\n",
    "        df[\"cer\"] = cer(reference=df.ground_truth.to_list(), hypothesis=df.transcription.to_list())\n",
    "\n",
    "        all_transcriptions = \" \".join(df.transcription)\n",
    "        all_gt = \" \".join(df.ground_truth)\n",
    "        all_wer = wer(hypothesis=all_transcriptions, reference=all_gt)\n",
    "        all_cer = cer(hypothesis=all_transcriptions, reference=all_gt)\n",
    "        mean_wer = df.wer.mean()\n",
    "        mean_cer = df.cer.mean()\n",
    "        accuracy = len(df[df.correct_prediction])/len(df)\n",
    "\n",
    "        scores[\"model\"].append(df.model_name[0])\n",
    "        scores[\"score\"].append(\"1 - Mean WER\")\n",
    "        scores[\"value\"].append(1-mean_wer)\n",
    "\n",
    "        scores[\"model\"].append(df.model_name[0])\n",
    "        scores[\"score\"].append(\"1 - Mean CER\")\n",
    "        scores[\"value\"].append(1-mean_cer)\n",
    "        \n",
    "        scores[\"model\"].append(df.model_name[0])\n",
    "        scores[\"score\"].append(\"1 - WER (concat)\")\n",
    "        scores[\"value\"].append(1-all_wer)\n",
    "\n",
    "        scores[\"model\"].append(df.model_name[0])\n",
    "        scores[\"score\"].append(\"1 - CER (concat)\")\n",
    "        scores[\"value\"].append(1-all_cer)\n",
    "\n",
    "        scores[\"model\"].append(df.model_name[0])\n",
    "        scores[\"score\"].append(\"Accuracy\")\n",
    "        scores[\"value\"].append(accuracy)\n",
    "    return pd.DataFrame(scores)        "
   ]
  },
  {
   "cell_type": "code",
   "execution_count": 11,
   "metadata": {},
   "outputs": [
    {
     "name": "stdout",
     "output_type": "stream",
     "text": [
      "est_smx_20000\n",
      "    Strict accuracy:    44.27%\n",
      "\n",
      "    Mean WER:           18.1%\n",
      "    WER (all concat):   18.1%\n",
      "\n",
      "    Mean CER:           5.47%\n",
      "    CER (all concat):   5.36%\n",
      "\n",
      "est\n",
      "    Strict accuracy:    11.24%\n",
      "\n",
      "    Mean WER:           47.31%\n",
      "    WER (all concat):   47.31%\n",
      "\n",
      "    Mean CER:           13.16%\n",
      "    CER (all concat):   12.91%\n",
      "\n",
      "fin_sme\n",
      "    Strict accuracy:    30.96%\n",
      "\n",
      "    Mean WER:           29.37%\n",
      "    WER (all concat):   29.37%\n",
      "\n",
      "    Mean CER:           12.54%\n",
      "    CER (all concat):   12.3%\n",
      "\n",
      "fin\n",
      "    Strict accuracy:    11.01%\n",
      "\n",
      "    Mean WER:           49.0%\n",
      "    WER (all concat):   48.94%\n",
      "\n",
      "    Mean CER:           13.77%\n",
      "    CER (all concat):   13.51%\n",
      "\n",
      "nor_sme\n",
      "    Strict accuracy:    37.16%\n",
      "\n",
      "    Mean WER:           28.08%\n",
      "    WER (all concat):   28.08%\n",
      "\n",
      "    Mean CER:           10.87%\n",
      "    CER (all concat):   10.66%\n",
      "\n",
      "nor_smx2_20000\n",
      "    Strict accuracy:    59.63%\n",
      "\n",
      "    Mean WER:           13.24%\n",
      "    WER (all concat):   13.24%\n",
      "\n",
      "    Mean CER:           5.17%\n",
      "    CER (all concat):   5.07%\n",
      "\n",
      "nor_smx_20000\n",
      "    Strict accuracy:    50.69%\n",
      "\n",
      "    Mean WER:           15.17%\n",
      "    WER (all concat):   15.17%\n",
      "\n",
      "    Mean CER:           5.35%\n",
      "    CER (all concat):   5.25%\n",
      "\n",
      "nor_smx_30000\n",
      "    Strict accuracy:    64.45%\n",
      "\n",
      "    Mean WER:           11.34%\n",
      "    WER (all concat):   11.34%\n",
      "\n",
      "    Mean CER:           4.83%\n",
      "    CER (all concat):   4.74%\n",
      "\n",
      "nor\n",
      "    Strict accuracy:    16.74%\n",
      "\n",
      "    Mean WER:           45.48%\n",
      "    WER (all concat):   45.41%\n",
      "\n",
      "    Mean CER:           12.45%\n",
      "    CER (all concat):   12.21%\n",
      "\n",
      "sme\n",
      "    Strict accuracy:    14.45%\n",
      "\n",
      "    Mean WER:           58.42%\n",
      "    WER (all concat):   58.05%\n",
      "\n",
      "    Mean CER:           22.94%\n",
      "    CER (all concat):   22.26%\n",
      "\n",
      "smx2_30000\n",
      "    Strict accuracy:    10.09%\n",
      "\n",
      "    Mean WER:           45.14%\n",
      "    WER (all concat):   45.11%\n",
      "\n",
      "    Mean CER:           12.52%\n",
      "    CER (all concat):   12.23%\n",
      "\n",
      "smx2_40000\n",
      "    Strict accuracy:    17.66%\n",
      "\n",
      "    Mean WER:           37.19%\n",
      "    WER (all concat):   37.19%\n",
      "\n",
      "    Mean CER:           9.56%\n",
      "    CER (all concat):   9.36%\n",
      "\n",
      "smx2_50000\n",
      "    Strict accuracy:    15.6%\n",
      "\n",
      "    Mean WER:           37.46%\n",
      "    WER (all concat):   37.43%\n",
      "\n",
      "    Mean CER:           9.98%\n",
      "    CER (all concat):   9.77%\n",
      "\n",
      "smx_30000\n",
      "    Strict accuracy:    15.37%\n",
      "\n",
      "    Mean WER:           36.63%\n",
      "    WER (all concat):   36.63%\n",
      "\n",
      "    Mean CER:           10.1%\n",
      "    CER (all concat):   9.89%\n",
      "\n",
      "smx_40000\n",
      "    Strict accuracy:    25.23%\n",
      "\n",
      "    Mean WER:           28.64%\n",
      "    WER (all concat):   28.61%\n",
      "\n",
      "    Mean CER:           8.09%\n",
      "    CER (all concat):   7.91%\n",
      "\n",
      "smx_50000\n",
      "    Strict accuracy:    23.62%\n",
      "\n",
      "    Mean WER:           28.04%\n",
      "    WER (all concat):   28.04%\n",
      "\n",
      "    Mean CER:           8.06%\n",
      "    CER (all concat):   7.9%\n",
      "\n",
      "transkribus_med_base\n",
      "    Strict accuracy:    82.57%\n",
      "\n",
      "    Mean WER:           3.16%\n",
      "    WER (all concat):   3.16%\n",
      "\n",
      "    Mean CER:           0.53%\n",
      "    CER (all concat):   0.52%\n",
      "\n",
      "transkribus_uten_base\n",
      "    Strict accuracy:    77.98%\n",
      "\n",
      "    Mean WER:           4.09%\n",
      "    WER (all concat):   4.09%\n",
      "\n",
      "    Mean CER:           0.75%\n",
      "    CER (all concat):   0.74%\n",
      "\n"
     ]
    }
   ],
   "source": [
    "### CHANGE THIS ###\n",
    "results_dirname = \"output/\"\n",
    "### ---------- ###\n",
    "\n",
    "p = Path(results_dirname)\n",
    "ps = sorted([e for e in p.iterdir() if e.name.startswith(\"test\") and e.name.endswith(\"gt.csv\")])\n",
    "dfs = [pd.read_csv(e) for e in ps]\n",
    "print_results(dfs)"
   ]
  },
  {
   "cell_type": "code",
   "execution_count": 20,
   "metadata": {},
   "outputs": [
    {
     "data": {
      "application/vnd.plotly.v1+json": {
       "config": {
        "plotlyServerURL": "https://plot.ly"
       },
       "data": [
        {
         "alignmentgroup": "True",
         "hovertemplate": "model=est<br>score=%{x}<br>value=%{y}<extra></extra>",
         "legendgroup": "est",
         "marker": {
          "color": "#636efa",
          "pattern": {
           "shape": ""
          }
         },
         "name": "est",
         "offsetgroup": "est",
         "orientation": "v",
         "showlegend": true,
         "textposition": "auto",
         "type": "bar",
         "x": [
          "1 - WER (concat)",
          "1 - CER (concat)",
          "Accuracy"
         ],
         "xaxis": "x",
         "y": [
          0.5269461077844311,
          0.8709110094970102,
          0.11238532110091744
         ],
         "yaxis": "y"
        },
        {
         "alignmentgroup": "True",
         "hovertemplate": "model=est_smx_20000<br>score=%{x}<br>value=%{y}<extra></extra>",
         "legendgroup": "est_smx_20000",
         "marker": {
          "color": "#EF553B",
          "pattern": {
           "shape": ""
          }
         },
         "name": "est_smx_20000",
         "offsetgroup": "est_smx_20000",
         "orientation": "v",
         "showlegend": true,
         "textposition": "auto",
         "type": "bar",
         "x": [
          "1 - WER (concat)",
          "1 - CER (concat)",
          "Accuracy"
         ],
         "xaxis": "x",
         "y": [
          0.8190286094477711,
          0.9463594794231446,
          0.4426605504587156
         ],
         "yaxis": "y"
        },
        {
         "alignmentgroup": "True",
         "hovertemplate": "model=fin<br>score=%{x}<br>value=%{y}<extra></extra>",
         "legendgroup": "fin",
         "marker": {
          "color": "#00cc96",
          "pattern": {
           "shape": ""
          }
         },
         "name": "fin",
         "offsetgroup": "fin",
         "orientation": "v",
         "showlegend": true,
         "textposition": "auto",
         "type": "bar",
         "x": [
          "1 - WER (concat)",
          "1 - CER (concat)",
          "Accuracy"
         ],
         "xaxis": "x",
         "y": [
          0.510645375914837,
          0.8649314104818853,
          0.11009174311926606
         ],
         "yaxis": "y"
        },
        {
         "alignmentgroup": "True",
         "hovertemplate": "model=fin_sme<br>score=%{x}<br>value=%{y}<extra></extra>",
         "legendgroup": "fin_sme",
         "marker": {
          "color": "#ab63fa",
          "pattern": {
           "shape": ""
          }
         },
         "name": "fin_sme",
         "offsetgroup": "fin_sme",
         "orientation": "v",
         "showlegend": true,
         "textposition": "auto",
         "type": "bar",
         "x": [
          "1 - WER (concat)",
          "1 - CER (concat)",
          "Accuracy"
         ],
         "xaxis": "x",
         "y": [
          0.7062541583499667,
          0.8769785437917692,
          0.30963302752293576
         ],
         "yaxis": "y"
        },
        {
         "alignmentgroup": "True",
         "hovertemplate": "model=nor<br>score=%{x}<br>value=%{y}<extra></extra>",
         "legendgroup": "nor",
         "marker": {
          "color": "#FFA15A",
          "pattern": {
           "shape": ""
          }
         },
         "name": "nor",
         "offsetgroup": "nor",
         "orientation": "v",
         "showlegend": true,
         "textposition": "auto",
         "type": "bar",
         "x": [
          "1 - CER (concat)",
          "1 - WER (concat)",
          "Accuracy"
         ],
         "xaxis": "x",
         "y": [
          0.8778578965881112,
          0.5459081836327345,
          0.16743119266055045
         ],
         "yaxis": "y"
        },
        {
         "alignmentgroup": "True",
         "hovertemplate": "model=nor_sme<br>score=%{x}<br>value=%{y}<extra></extra>",
         "legendgroup": "nor_sme",
         "marker": {
          "color": "#19d3f3",
          "pattern": {
           "shape": ""
          }
         },
         "name": "nor_sme",
         "offsetgroup": "nor_sme",
         "orientation": "v",
         "showlegend": true,
         "textposition": "auto",
         "type": "bar",
         "x": [
          "1 - CER (concat)",
          "1 - WER (concat)",
          "Accuracy"
         ],
         "xaxis": "x",
         "y": [
          0.8934224410833627,
          0.7192282102461743,
          0.37155963302752293
         ],
         "yaxis": "y"
        },
        {
         "alignmentgroup": "True",
         "hovertemplate": "model=nor_smx2_20000<br>score=%{x}<br>value=%{y}<extra></extra>",
         "legendgroup": "nor_smx2_20000",
         "marker": {
          "color": "#FF6692",
          "pattern": {
           "shape": ""
          }
         },
         "name": "nor_smx2_20000",
         "offsetgroup": "nor_smx2_20000",
         "orientation": "v",
         "showlegend": true,
         "textposition": "auto",
         "type": "bar",
         "x": [
          "1 - CER (concat)",
          "Accuracy",
          "1 - WER (concat)"
         ],
         "xaxis": "x",
         "y": [
          0.9492613436510728,
          0.5963302752293578,
          0.867598137059215
         ],
         "yaxis": "y"
        },
        {
         "alignmentgroup": "True",
         "hovertemplate": "model=nor_smx_20000<br>score=%{x}<br>value=%{y}<extra></extra>",
         "legendgroup": "nor_smx_20000",
         "marker": {
          "color": "#B6E880",
          "pattern": {
           "shape": ""
          }
         },
         "name": "nor_smx_20000",
         "offsetgroup": "nor_smx_20000",
         "orientation": "v",
         "showlegend": true,
         "textposition": "auto",
         "type": "bar",
         "x": [
          "1 - WER (concat)",
          "1 - CER (concat)",
          "Accuracy"
         ],
         "xaxis": "x",
         "y": [
          0.8483033932135728,
          0.9475026380583891,
          0.5068807339449541
         ],
         "yaxis": "y"
        },
        {
         "alignmentgroup": "True",
         "hovertemplate": "model=nor_smx_30000<br>score=%{x}<br>value=%{y}<extra></extra>",
         "legendgroup": "nor_smx_30000",
         "marker": {
          "color": "#FF97FF",
          "pattern": {
           "shape": ""
          }
         },
         "name": "nor_smx_30000",
         "offsetgroup": "nor_smx_30000",
         "orientation": "v",
         "showlegend": true,
         "textposition": "auto",
         "type": "bar",
         "x": [
          "1 - WER (concat)",
          "1 - CER (concat)",
          "Accuracy"
         ],
         "xaxis": "x",
         "y": [
          0.8865602129075183,
          0.952602884277172,
          0.6444954128440367
         ],
         "yaxis": "y"
        },
        {
         "alignmentgroup": "True",
         "hovertemplate": "model=sme<br>score=%{x}<br>value=%{y}<extra></extra>",
         "legendgroup": "sme",
         "marker": {
          "color": "#FECB52",
          "pattern": {
           "shape": ""
          }
         },
         "name": "sme",
         "offsetgroup": "sme",
         "orientation": "v",
         "showlegend": true,
         "textposition": "auto",
         "type": "bar",
         "x": [
          "1 - WER (concat)",
          "1 - CER (concat)",
          "Accuracy"
         ],
         "xaxis": "x",
         "y": [
          0.4194943446440452,
          0.777435807245867,
          0.1444954128440367
         ],
         "yaxis": "y"
        },
        {
         "alignmentgroup": "True",
         "hovertemplate": "model=smx2_30000<br>score=%{x}<br>value=%{y}<extra></extra>",
         "legendgroup": "smx2_30000",
         "marker": {
          "color": "#636efa",
          "pattern": {
           "shape": ""
          }
         },
         "name": "smx2_30000",
         "offsetgroup": "smx2_30000",
         "orientation": "v",
         "showlegend": true,
         "textposition": "auto",
         "type": "bar",
         "x": [
          "Accuracy",
          "1 - WER (concat)",
          "1 - CER (concat)"
         ],
         "xaxis": "x",
         "y": [
          0.10091743119266056,
          0.5489021956087825,
          0.8777259936686599
         ],
         "yaxis": "y"
        },
        {
         "alignmentgroup": "True",
         "hovertemplate": "model=smx2_40000<br>score=%{x}<br>value=%{y}<extra></extra>",
         "legendgroup": "smx2_40000",
         "marker": {
          "color": "#EF553B",
          "pattern": {
           "shape": ""
          }
         },
         "name": "smx2_40000",
         "offsetgroup": "smx2_40000",
         "orientation": "v",
         "showlegend": true,
         "textposition": "auto",
         "type": "bar",
         "x": [
          "Accuracy",
          "1 - CER (concat)",
          "1 - WER (concat)"
         ],
         "xaxis": "x",
         "y": [
          0.17660550458715596,
          0.9063928948294055,
          0.6280771789753825
         ],
         "yaxis": "y"
        },
        {
         "alignmentgroup": "True",
         "hovertemplate": "model=smx2_50000<br>score=%{x}<br>value=%{y}<extra></extra>",
         "legendgroup": "smx2_50000",
         "marker": {
          "color": "#00cc96",
          "pattern": {
           "shape": ""
          }
         },
         "name": "smx2_50000",
         "offsetgroup": "smx2_50000",
         "orientation": "v",
         "showlegend": true,
         "textposition": "auto",
         "type": "bar",
         "x": [
          "1 - WER (concat)",
          "1 - CER (concat)",
          "Accuracy"
         ],
         "xaxis": "x",
         "y": [
          0.625748502994012,
          0.9022599366865987,
          0.1559633027522936
         ],
         "yaxis": "y"
        },
        {
         "alignmentgroup": "True",
         "hovertemplate": "model=smx_30000<br>score=%{x}<br>value=%{y}<extra></extra>",
         "legendgroup": "smx_30000",
         "marker": {
          "color": "#ab63fa",
          "pattern": {
           "shape": ""
          }
         },
         "name": "smx_30000",
         "offsetgroup": "smx_30000",
         "orientation": "v",
         "showlegend": true,
         "textposition": "auto",
         "type": "bar",
         "x": [
          "1 - WER (concat)",
          "1 - CER (concat)",
          "Accuracy"
         ],
         "xaxis": "x",
         "y": [
          0.6337325349301397,
          0.9011167780513543,
          0.1536697247706422
         ],
         "yaxis": "y"
        },
        {
         "alignmentgroup": "True",
         "hovertemplate": "model=smx_40000<br>score=%{x}<br>value=%{y}<extra></extra>",
         "legendgroup": "smx_40000",
         "marker": {
          "color": "#FFA15A",
          "pattern": {
           "shape": ""
          }
         },
         "name": "smx_40000",
         "offsetgroup": "smx_40000",
         "orientation": "v",
         "showlegend": true,
         "textposition": "auto",
         "type": "bar",
         "x": [
          "Accuracy",
          "1 - WER (concat)",
          "1 - CER (concat)"
         ],
         "xaxis": "x",
         "y": [
          0.25229357798165136,
          0.7139055222887558,
          0.9208582483292297
         ],
         "yaxis": "y"
        },
        {
         "alignmentgroup": "True",
         "hovertemplate": "model=smx_50000<br>score=%{x}<br>value=%{y}<extra></extra>",
         "legendgroup": "smx_50000",
         "marker": {
          "color": "#19d3f3",
          "pattern": {
           "shape": ""
          }
         },
         "name": "smx_50000",
         "offsetgroup": "smx_50000",
         "orientation": "v",
         "showlegend": true,
         "textposition": "auto",
         "type": "bar",
         "x": [
          "1 - WER (concat)",
          "1 - CER (concat)",
          "Accuracy"
         ],
         "xaxis": "x",
         "y": [
          0.719560878243513,
          0.920990151248681,
          0.23623853211009174
         ],
         "yaxis": "y"
        },
        {
         "alignmentgroup": "True",
         "hovertemplate": "model=transkribus_med_base<br>score=%{x}<br>value=%{y}<extra></extra>",
         "legendgroup": "transkribus_med_base",
         "marker": {
          "color": "#FF6692",
          "pattern": {
           "shape": ""
          }
         },
         "name": "transkribus_med_base",
         "offsetgroup": "transkribus_med_base",
         "orientation": "v",
         "showlegend": true,
         "textposition": "auto",
         "type": "bar",
         "x": [
          "1 - WER (concat)",
          "1 - CER (concat)",
          "Accuracy"
         ],
         "xaxis": "x",
         "y": [
          0.9683965402528276,
          0.9947678508617658,
          0.8256880733944955
         ],
         "yaxis": "y"
        },
        {
         "alignmentgroup": "True",
         "hovertemplate": "model=transkribus_uten_base<br>score=%{x}<br>value=%{y}<extra></extra>",
         "legendgroup": "transkribus_uten_base",
         "marker": {
          "color": "#B6E880",
          "pattern": {
           "shape": ""
          }
         },
         "name": "transkribus_uten_base",
         "offsetgroup": "transkribus_uten_base",
         "orientation": "v",
         "showlegend": true,
         "textposition": "auto",
         "type": "bar",
         "x": [
          "1 - CER (concat)",
          "1 - WER (concat)",
          "Accuracy"
         ],
         "xaxis": "x",
         "y": [
          0.9926134365107281,
          0.9590818363273453,
          0.7798165137614679
         ],
         "yaxis": "y"
        }
       ],
       "layout": {
        "barmode": "group",
        "legend": {
         "title": {
          "text": "model"
         },
         "tracegroupgap": 0
        },
        "margin": {
         "t": 60
        },
        "template": {
         "data": {
          "bar": [
           {
            "error_x": {
             "color": "#2a3f5f"
            },
            "error_y": {
             "color": "#2a3f5f"
            },
            "marker": {
             "line": {
              "color": "#E5ECF6",
              "width": 0.5
             },
             "pattern": {
              "fillmode": "overlay",
              "size": 10,
              "solidity": 0.2
             }
            },
            "type": "bar"
           }
          ],
          "barpolar": [
           {
            "marker": {
             "line": {
              "color": "#E5ECF6",
              "width": 0.5
             },
             "pattern": {
              "fillmode": "overlay",
              "size": 10,
              "solidity": 0.2
             }
            },
            "type": "barpolar"
           }
          ],
          "carpet": [
           {
            "aaxis": {
             "endlinecolor": "#2a3f5f",
             "gridcolor": "white",
             "linecolor": "white",
             "minorgridcolor": "white",
             "startlinecolor": "#2a3f5f"
            },
            "baxis": {
             "endlinecolor": "#2a3f5f",
             "gridcolor": "white",
             "linecolor": "white",
             "minorgridcolor": "white",
             "startlinecolor": "#2a3f5f"
            },
            "type": "carpet"
           }
          ],
          "choropleth": [
           {
            "colorbar": {
             "outlinewidth": 0,
             "ticks": ""
            },
            "type": "choropleth"
           }
          ],
          "contour": [
           {
            "colorbar": {
             "outlinewidth": 0,
             "ticks": ""
            },
            "colorscale": [
             [
              0,
              "#0d0887"
             ],
             [
              0.1111111111111111,
              "#46039f"
             ],
             [
              0.2222222222222222,
              "#7201a8"
             ],
             [
              0.3333333333333333,
              "#9c179e"
             ],
             [
              0.4444444444444444,
              "#bd3786"
             ],
             [
              0.5555555555555556,
              "#d8576b"
             ],
             [
              0.6666666666666666,
              "#ed7953"
             ],
             [
              0.7777777777777778,
              "#fb9f3a"
             ],
             [
              0.8888888888888888,
              "#fdca26"
             ],
             [
              1,
              "#f0f921"
             ]
            ],
            "type": "contour"
           }
          ],
          "contourcarpet": [
           {
            "colorbar": {
             "outlinewidth": 0,
             "ticks": ""
            },
            "type": "contourcarpet"
           }
          ],
          "heatmap": [
           {
            "colorbar": {
             "outlinewidth": 0,
             "ticks": ""
            },
            "colorscale": [
             [
              0,
              "#0d0887"
             ],
             [
              0.1111111111111111,
              "#46039f"
             ],
             [
              0.2222222222222222,
              "#7201a8"
             ],
             [
              0.3333333333333333,
              "#9c179e"
             ],
             [
              0.4444444444444444,
              "#bd3786"
             ],
             [
              0.5555555555555556,
              "#d8576b"
             ],
             [
              0.6666666666666666,
              "#ed7953"
             ],
             [
              0.7777777777777778,
              "#fb9f3a"
             ],
             [
              0.8888888888888888,
              "#fdca26"
             ],
             [
              1,
              "#f0f921"
             ]
            ],
            "type": "heatmap"
           }
          ],
          "heatmapgl": [
           {
            "colorbar": {
             "outlinewidth": 0,
             "ticks": ""
            },
            "colorscale": [
             [
              0,
              "#0d0887"
             ],
             [
              0.1111111111111111,
              "#46039f"
             ],
             [
              0.2222222222222222,
              "#7201a8"
             ],
             [
              0.3333333333333333,
              "#9c179e"
             ],
             [
              0.4444444444444444,
              "#bd3786"
             ],
             [
              0.5555555555555556,
              "#d8576b"
             ],
             [
              0.6666666666666666,
              "#ed7953"
             ],
             [
              0.7777777777777778,
              "#fb9f3a"
             ],
             [
              0.8888888888888888,
              "#fdca26"
             ],
             [
              1,
              "#f0f921"
             ]
            ],
            "type": "heatmapgl"
           }
          ],
          "histogram": [
           {
            "marker": {
             "pattern": {
              "fillmode": "overlay",
              "size": 10,
              "solidity": 0.2
             }
            },
            "type": "histogram"
           }
          ],
          "histogram2d": [
           {
            "colorbar": {
             "outlinewidth": 0,
             "ticks": ""
            },
            "colorscale": [
             [
              0,
              "#0d0887"
             ],
             [
              0.1111111111111111,
              "#46039f"
             ],
             [
              0.2222222222222222,
              "#7201a8"
             ],
             [
              0.3333333333333333,
              "#9c179e"
             ],
             [
              0.4444444444444444,
              "#bd3786"
             ],
             [
              0.5555555555555556,
              "#d8576b"
             ],
             [
              0.6666666666666666,
              "#ed7953"
             ],
             [
              0.7777777777777778,
              "#fb9f3a"
             ],
             [
              0.8888888888888888,
              "#fdca26"
             ],
             [
              1,
              "#f0f921"
             ]
            ],
            "type": "histogram2d"
           }
          ],
          "histogram2dcontour": [
           {
            "colorbar": {
             "outlinewidth": 0,
             "ticks": ""
            },
            "colorscale": [
             [
              0,
              "#0d0887"
             ],
             [
              0.1111111111111111,
              "#46039f"
             ],
             [
              0.2222222222222222,
              "#7201a8"
             ],
             [
              0.3333333333333333,
              "#9c179e"
             ],
             [
              0.4444444444444444,
              "#bd3786"
             ],
             [
              0.5555555555555556,
              "#d8576b"
             ],
             [
              0.6666666666666666,
              "#ed7953"
             ],
             [
              0.7777777777777778,
              "#fb9f3a"
             ],
             [
              0.8888888888888888,
              "#fdca26"
             ],
             [
              1,
              "#f0f921"
             ]
            ],
            "type": "histogram2dcontour"
           }
          ],
          "mesh3d": [
           {
            "colorbar": {
             "outlinewidth": 0,
             "ticks": ""
            },
            "type": "mesh3d"
           }
          ],
          "parcoords": [
           {
            "line": {
             "colorbar": {
              "outlinewidth": 0,
              "ticks": ""
             }
            },
            "type": "parcoords"
           }
          ],
          "pie": [
           {
            "automargin": true,
            "type": "pie"
           }
          ],
          "scatter": [
           {
            "fillpattern": {
             "fillmode": "overlay",
             "size": 10,
             "solidity": 0.2
            },
            "type": "scatter"
           }
          ],
          "scatter3d": [
           {
            "line": {
             "colorbar": {
              "outlinewidth": 0,
              "ticks": ""
             }
            },
            "marker": {
             "colorbar": {
              "outlinewidth": 0,
              "ticks": ""
             }
            },
            "type": "scatter3d"
           }
          ],
          "scattercarpet": [
           {
            "marker": {
             "colorbar": {
              "outlinewidth": 0,
              "ticks": ""
             }
            },
            "type": "scattercarpet"
           }
          ],
          "scattergeo": [
           {
            "marker": {
             "colorbar": {
              "outlinewidth": 0,
              "ticks": ""
             }
            },
            "type": "scattergeo"
           }
          ],
          "scattergl": [
           {
            "marker": {
             "colorbar": {
              "outlinewidth": 0,
              "ticks": ""
             }
            },
            "type": "scattergl"
           }
          ],
          "scattermapbox": [
           {
            "marker": {
             "colorbar": {
              "outlinewidth": 0,
              "ticks": ""
             }
            },
            "type": "scattermapbox"
           }
          ],
          "scatterpolar": [
           {
            "marker": {
             "colorbar": {
              "outlinewidth": 0,
              "ticks": ""
             }
            },
            "type": "scatterpolar"
           }
          ],
          "scatterpolargl": [
           {
            "marker": {
             "colorbar": {
              "outlinewidth": 0,
              "ticks": ""
             }
            },
            "type": "scatterpolargl"
           }
          ],
          "scatterternary": [
           {
            "marker": {
             "colorbar": {
              "outlinewidth": 0,
              "ticks": ""
             }
            },
            "type": "scatterternary"
           }
          ],
          "surface": [
           {
            "colorbar": {
             "outlinewidth": 0,
             "ticks": ""
            },
            "colorscale": [
             [
              0,
              "#0d0887"
             ],
             [
              0.1111111111111111,
              "#46039f"
             ],
             [
              0.2222222222222222,
              "#7201a8"
             ],
             [
              0.3333333333333333,
              "#9c179e"
             ],
             [
              0.4444444444444444,
              "#bd3786"
             ],
             [
              0.5555555555555556,
              "#d8576b"
             ],
             [
              0.6666666666666666,
              "#ed7953"
             ],
             [
              0.7777777777777778,
              "#fb9f3a"
             ],
             [
              0.8888888888888888,
              "#fdca26"
             ],
             [
              1,
              "#f0f921"
             ]
            ],
            "type": "surface"
           }
          ],
          "table": [
           {
            "cells": {
             "fill": {
              "color": "#EBF0F8"
             },
             "line": {
              "color": "white"
             }
            },
            "header": {
             "fill": {
              "color": "#C8D4E3"
             },
             "line": {
              "color": "white"
             }
            },
            "type": "table"
           }
          ]
         },
         "layout": {
          "annotationdefaults": {
           "arrowcolor": "#2a3f5f",
           "arrowhead": 0,
           "arrowwidth": 1
          },
          "autotypenumbers": "strict",
          "coloraxis": {
           "colorbar": {
            "outlinewidth": 0,
            "ticks": ""
           }
          },
          "colorscale": {
           "diverging": [
            [
             0,
             "#8e0152"
            ],
            [
             0.1,
             "#c51b7d"
            ],
            [
             0.2,
             "#de77ae"
            ],
            [
             0.3,
             "#f1b6da"
            ],
            [
             0.4,
             "#fde0ef"
            ],
            [
             0.5,
             "#f7f7f7"
            ],
            [
             0.6,
             "#e6f5d0"
            ],
            [
             0.7,
             "#b8e186"
            ],
            [
             0.8,
             "#7fbc41"
            ],
            [
             0.9,
             "#4d9221"
            ],
            [
             1,
             "#276419"
            ]
           ],
           "sequential": [
            [
             0,
             "#0d0887"
            ],
            [
             0.1111111111111111,
             "#46039f"
            ],
            [
             0.2222222222222222,
             "#7201a8"
            ],
            [
             0.3333333333333333,
             "#9c179e"
            ],
            [
             0.4444444444444444,
             "#bd3786"
            ],
            [
             0.5555555555555556,
             "#d8576b"
            ],
            [
             0.6666666666666666,
             "#ed7953"
            ],
            [
             0.7777777777777778,
             "#fb9f3a"
            ],
            [
             0.8888888888888888,
             "#fdca26"
            ],
            [
             1,
             "#f0f921"
            ]
           ],
           "sequentialminus": [
            [
             0,
             "#0d0887"
            ],
            [
             0.1111111111111111,
             "#46039f"
            ],
            [
             0.2222222222222222,
             "#7201a8"
            ],
            [
             0.3333333333333333,
             "#9c179e"
            ],
            [
             0.4444444444444444,
             "#bd3786"
            ],
            [
             0.5555555555555556,
             "#d8576b"
            ],
            [
             0.6666666666666666,
             "#ed7953"
            ],
            [
             0.7777777777777778,
             "#fb9f3a"
            ],
            [
             0.8888888888888888,
             "#fdca26"
            ],
            [
             1,
             "#f0f921"
            ]
           ]
          },
          "colorway": [
           "#636efa",
           "#EF553B",
           "#00cc96",
           "#ab63fa",
           "#FFA15A",
           "#19d3f3",
           "#FF6692",
           "#B6E880",
           "#FF97FF",
           "#FECB52"
          ],
          "font": {
           "color": "#2a3f5f"
          },
          "geo": {
           "bgcolor": "white",
           "lakecolor": "white",
           "landcolor": "#E5ECF6",
           "showlakes": true,
           "showland": true,
           "subunitcolor": "white"
          },
          "hoverlabel": {
           "align": "left"
          },
          "hovermode": "closest",
          "mapbox": {
           "style": "light"
          },
          "paper_bgcolor": "white",
          "plot_bgcolor": "#E5ECF6",
          "polar": {
           "angularaxis": {
            "gridcolor": "white",
            "linecolor": "white",
            "ticks": ""
           },
           "bgcolor": "#E5ECF6",
           "radialaxis": {
            "gridcolor": "white",
            "linecolor": "white",
            "ticks": ""
           }
          },
          "scene": {
           "xaxis": {
            "backgroundcolor": "#E5ECF6",
            "gridcolor": "white",
            "gridwidth": 2,
            "linecolor": "white",
            "showbackground": true,
            "ticks": "",
            "zerolinecolor": "white"
           },
           "yaxis": {
            "backgroundcolor": "#E5ECF6",
            "gridcolor": "white",
            "gridwidth": 2,
            "linecolor": "white",
            "showbackground": true,
            "ticks": "",
            "zerolinecolor": "white"
           },
           "zaxis": {
            "backgroundcolor": "#E5ECF6",
            "gridcolor": "white",
            "gridwidth": 2,
            "linecolor": "white",
            "showbackground": true,
            "ticks": "",
            "zerolinecolor": "white"
           }
          },
          "shapedefaults": {
           "line": {
            "color": "#2a3f5f"
           }
          },
          "ternary": {
           "aaxis": {
            "gridcolor": "white",
            "linecolor": "white",
            "ticks": ""
           },
           "baxis": {
            "gridcolor": "white",
            "linecolor": "white",
            "ticks": ""
           },
           "bgcolor": "#E5ECF6",
           "caxis": {
            "gridcolor": "white",
            "linecolor": "white",
            "ticks": ""
           }
          },
          "title": {
           "x": 0.05
          },
          "xaxis": {
           "automargin": true,
           "gridcolor": "white",
           "linecolor": "white",
           "ticks": "",
           "title": {
            "standoff": 15
           },
           "zerolinecolor": "white",
           "zerolinewidth": 2
          },
          "yaxis": {
           "automargin": true,
           "gridcolor": "white",
           "linecolor": "white",
           "ticks": "",
           "title": {
            "standoff": 15
           },
           "zerolinecolor": "white",
           "zerolinewidth": 2
          }
         }
        },
        "xaxis": {
         "anchor": "y",
         "domain": [
          0,
          1
         ],
         "title": {
          "text": "score"
         }
        },
        "yaxis": {
         "anchor": "x",
         "domain": [
          0,
          1
         ],
         "title": {
          "text": "value"
         }
        }
       }
      }
     },
     "metadata": {},
     "output_type": "display_data"
    }
   ],
   "source": [
    "score_df = dfs_to_score_df(dfs)\n",
    "score_df = score_df[score_df.score.apply(lambda x: \"Mean\" not in x)] # uncomment to include mean scores as well\n",
    "# score_df = score_df[score_df.model.apply(lambda x: \"smx\" not in x)]  # uncomment to exclude our models\n",
    "# score_df = score_df[score_df.model.apply(lambda x: len(x.split(\"_\")) >= 3)] # uncomment to exclude base and giellatekno models\n",
    "# score_df = score_df[score_df.model.apply(lambda x: \"sme\" not in x)] # uncomment to exclude giellatekno models\n",
    "# score_df = score_df[score_df.model.apply(lambda x: \"fin\" not in x)] # uncomment to exclude finnish base model\n",
    "\n",
    "# score_df = score_df[score_df.model.apply(lambda x: \"_\" in x or \"sme\" in x)] # uncomment to exclude base models\n",
    "# score_df = score_df[score_df.model.apply(lambda x: len(x.split(\"_\")) == 2)] # uncomment to exclude model with bases\n",
    "\n",
    "# score_df = score_df[score_df.model.apply(lambda x: x.split(\"_\")[-1] in (\"25000\", \"40000\") or not x.split(\"_\")[-1].isnumeric())] # uncomment to exclude smaller models\n",
    "\n",
    "# score_df = score_df[score_df.model.apply(lambda x: \"transkribus\" not in x)] # uncomment to exclude transkribus models\n",
    "score_df.sort_values(\"model\").plot.bar(x='score', y='value', color='model', barmode=\"group\")"
   ]
  },
  {
   "cell_type": "code",
   "execution_count": 21,
   "metadata": {},
   "outputs": [
    {
     "data": {
      "application/vnd.plotly.v1+json": {
       "config": {
        "plotlyServerURL": "https://plot.ly"
       },
       "data": [
        {
         "alignmentgroup": "True",
         "hovertemplate": "model=%{x}<br>score_sum=%{y}<extra></extra>",
         "legendgroup": "sme",
         "marker": {
          "color": "#636efa",
          "pattern": {
           "shape": ""
          }
         },
         "name": "sme",
         "offsetgroup": "sme",
         "orientation": "v",
         "showlegend": true,
         "textposition": "auto",
         "type": "bar",
         "x": [
          "sme"
         ],
         "xaxis": "x",
         "y": [
          1.341425564733949
         ],
         "yaxis": "y"
        },
        {
         "alignmentgroup": "True",
         "hovertemplate": "model=%{x}<br>score_sum=%{y}<extra></extra>",
         "legendgroup": "fin",
         "marker": {
          "color": "#EF553B",
          "pattern": {
           "shape": ""
          }
         },
         "name": "fin",
         "offsetgroup": "fin",
         "orientation": "v",
         "showlegend": true,
         "textposition": "auto",
         "type": "bar",
         "x": [
          "fin"
         ],
         "xaxis": "x",
         "y": [
          1.4856685295159884
         ],
         "yaxis": "y"
        },
        {
         "alignmentgroup": "True",
         "hovertemplate": "model=%{x}<br>score_sum=%{y}<extra></extra>",
         "legendgroup": "est",
         "marker": {
          "color": "#00cc96",
          "pattern": {
           "shape": ""
          }
         },
         "name": "est",
         "offsetgroup": "est",
         "orientation": "v",
         "showlegend": true,
         "textposition": "auto",
         "type": "bar",
         "x": [
          "est"
         ],
         "xaxis": "x",
         "y": [
          1.5102424383823585
         ],
         "yaxis": "y"
        },
        {
         "alignmentgroup": "True",
         "hovertemplate": "model=%{x}<br>score_sum=%{y}<extra></extra>",
         "legendgroup": "smx2_30000",
         "marker": {
          "color": "#ab63fa",
          "pattern": {
           "shape": ""
          }
         },
         "name": "smx2_30000",
         "offsetgroup": "smx2_30000",
         "orientation": "v",
         "showlegend": true,
         "textposition": "auto",
         "type": "bar",
         "x": [
          "smx2_30000"
         ],
         "xaxis": "x",
         "y": [
          1.527545620470103
         ],
         "yaxis": "y"
        },
        {
         "alignmentgroup": "True",
         "hovertemplate": "model=%{x}<br>score_sum=%{y}<extra></extra>",
         "legendgroup": "nor",
         "marker": {
          "color": "#FFA15A",
          "pattern": {
           "shape": ""
          }
         },
         "name": "nor",
         "offsetgroup": "nor",
         "orientation": "v",
         "showlegend": true,
         "textposition": "auto",
         "type": "bar",
         "x": [
          "nor"
         ],
         "xaxis": "x",
         "y": [
          1.5911972728813961
         ],
         "yaxis": "y"
        },
        {
         "alignmentgroup": "True",
         "hovertemplate": "model=%{x}<br>score_sum=%{y}<extra></extra>",
         "legendgroup": "smx2_50000",
         "marker": {
          "color": "#19d3f3",
          "pattern": {
           "shape": ""
          }
         },
         "name": "smx2_50000",
         "offsetgroup": "smx2_50000",
         "orientation": "v",
         "showlegend": true,
         "textposition": "auto",
         "type": "bar",
         "x": [
          "smx2_50000"
         ],
         "xaxis": "x",
         "y": [
          1.6839717424329042
         ],
         "yaxis": "y"
        },
        {
         "alignmentgroup": "True",
         "hovertemplate": "model=%{x}<br>score_sum=%{y}<extra></extra>",
         "legendgroup": "smx_30000",
         "marker": {
          "color": "#FF6692",
          "pattern": {
           "shape": ""
          }
         },
         "name": "smx_30000",
         "offsetgroup": "smx_30000",
         "orientation": "v",
         "showlegend": true,
         "textposition": "auto",
         "type": "bar",
         "x": [
          "smx_30000"
         ],
         "xaxis": "x",
         "y": [
          1.6885190377521362
         ],
         "yaxis": "y"
        },
        {
         "alignmentgroup": "True",
         "hovertemplate": "model=%{x}<br>score_sum=%{y}<extra></extra>",
         "legendgroup": "smx2_40000",
         "marker": {
          "color": "#B6E880",
          "pattern": {
           "shape": ""
          }
         },
         "name": "smx2_40000",
         "offsetgroup": "smx2_40000",
         "orientation": "v",
         "showlegend": true,
         "textposition": "auto",
         "type": "bar",
         "x": [
          "smx2_40000"
         ],
         "xaxis": "x",
         "y": [
          1.711075578391944
         ],
         "yaxis": "y"
        },
        {
         "alignmentgroup": "True",
         "hovertemplate": "model=%{x}<br>score_sum=%{y}<extra></extra>",
         "legendgroup": "smx_50000",
         "marker": {
          "color": "#FF97FF",
          "pattern": {
           "shape": ""
          }
         },
         "name": "smx_50000",
         "offsetgroup": "smx_50000",
         "orientation": "v",
         "showlegend": true,
         "textposition": "auto",
         "type": "bar",
         "x": [
          "smx_50000"
         ],
         "xaxis": "x",
         "y": [
          1.8767895616022856
         ],
         "yaxis": "y"
        },
        {
         "alignmentgroup": "True",
         "hovertemplate": "model=%{x}<br>score_sum=%{y}<extra></extra>",
         "legendgroup": "smx_40000",
         "marker": {
          "color": "#FECB52",
          "pattern": {
           "shape": ""
          }
         },
         "name": "smx_40000",
         "offsetgroup": "smx_40000",
         "orientation": "v",
         "showlegend": true,
         "textposition": "auto",
         "type": "bar",
         "x": [
          "smx_40000"
         ],
         "xaxis": "x",
         "y": [
          1.8870573485996367
         ],
         "yaxis": "y"
        },
        {
         "alignmentgroup": "True",
         "hovertemplate": "model=%{x}<br>score_sum=%{y}<extra></extra>",
         "legendgroup": "fin_sme",
         "marker": {
          "color": "#636efa",
          "pattern": {
           "shape": ""
          }
         },
         "name": "fin_sme",
         "offsetgroup": "fin_sme",
         "orientation": "v",
         "showlegend": true,
         "textposition": "auto",
         "type": "bar",
         "x": [
          "fin_sme"
         ],
         "xaxis": "x",
         "y": [
          1.8928657296646718
         ],
         "yaxis": "y"
        },
        {
         "alignmentgroup": "True",
         "hovertemplate": "model=%{x}<br>score_sum=%{y}<extra></extra>",
         "legendgroup": "nor_sme",
         "marker": {
          "color": "#EF553B",
          "pattern": {
           "shape": ""
          }
         },
         "name": "nor_sme",
         "offsetgroup": "nor_sme",
         "orientation": "v",
         "showlegend": true,
         "textposition": "auto",
         "type": "bar",
         "x": [
          "nor_sme"
         ],
         "xaxis": "x",
         "y": [
          1.9842102843570597
         ],
         "yaxis": "y"
        },
        {
         "alignmentgroup": "True",
         "hovertemplate": "model=%{x}<br>score_sum=%{y}<extra></extra>",
         "legendgroup": "est_smx_20000",
         "marker": {
          "color": "#00cc96",
          "pattern": {
           "shape": ""
          }
         },
         "name": "est_smx_20000",
         "offsetgroup": "est_smx_20000",
         "orientation": "v",
         "showlegend": true,
         "textposition": "auto",
         "type": "bar",
         "x": [
          "est_smx_20000"
         ],
         "xaxis": "x",
         "y": [
          2.2080486393296312
         ],
         "yaxis": "y"
        },
        {
         "alignmentgroup": "True",
         "hovertemplate": "model=%{x}<br>score_sum=%{y}<extra></extra>",
         "legendgroup": "nor_smx_20000",
         "marker": {
          "color": "#ab63fa",
          "pattern": {
           "shape": ""
          }
         },
         "name": "nor_smx_20000",
         "offsetgroup": "nor_smx_20000",
         "orientation": "v",
         "showlegend": true,
         "textposition": "auto",
         "type": "bar",
         "x": [
          "nor_smx_20000"
         ],
         "xaxis": "x",
         "y": [
          2.302686765216916
         ],
         "yaxis": "y"
        },
        {
         "alignmentgroup": "True",
         "hovertemplate": "model=%{x}<br>score_sum=%{y}<extra></extra>",
         "legendgroup": "nor_smx2_20000",
         "marker": {
          "color": "#FFA15A",
          "pattern": {
           "shape": ""
          }
         },
         "name": "nor_smx2_20000",
         "offsetgroup": "nor_smx2_20000",
         "orientation": "v",
         "showlegend": true,
         "textposition": "auto",
         "type": "bar",
         "x": [
          "nor_smx2_20000"
         ],
         "xaxis": "x",
         "y": [
          2.4131897559396456
         ],
         "yaxis": "y"
        },
        {
         "alignmentgroup": "True",
         "hovertemplate": "model=%{x}<br>score_sum=%{y}<extra></extra>",
         "legendgroup": "nor_smx_30000",
         "marker": {
          "color": "#19d3f3",
          "pattern": {
           "shape": ""
          }
         },
         "name": "nor_smx_30000",
         "offsetgroup": "nor_smx_30000",
         "orientation": "v",
         "showlegend": true,
         "textposition": "auto",
         "type": "bar",
         "x": [
          "nor_smx_30000"
         ],
         "xaxis": "x",
         "y": [
          2.483658510028727
         ],
         "yaxis": "y"
        },
        {
         "alignmentgroup": "True",
         "hovertemplate": "model=%{x}<br>score_sum=%{y}<extra></extra>",
         "legendgroup": "transkribus_uten_base",
         "marker": {
          "color": "#FF6692",
          "pattern": {
           "shape": ""
          }
         },
         "name": "transkribus_uten_base",
         "offsetgroup": "transkribus_uten_base",
         "orientation": "v",
         "showlegend": true,
         "textposition": "auto",
         "type": "bar",
         "x": [
          "transkribus_uten_base"
         ],
         "xaxis": "x",
         "y": [
          2.7315117865995413
         ],
         "yaxis": "y"
        },
        {
         "alignmentgroup": "True",
         "hovertemplate": "model=%{x}<br>score_sum=%{y}<extra></extra>",
         "legendgroup": "transkribus_med_base",
         "marker": {
          "color": "#B6E880",
          "pattern": {
           "shape": ""
          }
         },
         "name": "transkribus_med_base",
         "offsetgroup": "transkribus_med_base",
         "orientation": "v",
         "showlegend": true,
         "textposition": "auto",
         "type": "bar",
         "x": [
          "transkribus_med_base"
         ],
         "xaxis": "x",
         "y": [
          2.788852464509089
         ],
         "yaxis": "y"
        }
       ],
       "layout": {
        "barmode": "relative",
        "legend": {
         "title": {
          "text": "model"
         },
         "tracegroupgap": 0
        },
        "margin": {
         "t": 60
        },
        "template": {
         "data": {
          "bar": [
           {
            "error_x": {
             "color": "#2a3f5f"
            },
            "error_y": {
             "color": "#2a3f5f"
            },
            "marker": {
             "line": {
              "color": "#E5ECF6",
              "width": 0.5
             },
             "pattern": {
              "fillmode": "overlay",
              "size": 10,
              "solidity": 0.2
             }
            },
            "type": "bar"
           }
          ],
          "barpolar": [
           {
            "marker": {
             "line": {
              "color": "#E5ECF6",
              "width": 0.5
             },
             "pattern": {
              "fillmode": "overlay",
              "size": 10,
              "solidity": 0.2
             }
            },
            "type": "barpolar"
           }
          ],
          "carpet": [
           {
            "aaxis": {
             "endlinecolor": "#2a3f5f",
             "gridcolor": "white",
             "linecolor": "white",
             "minorgridcolor": "white",
             "startlinecolor": "#2a3f5f"
            },
            "baxis": {
             "endlinecolor": "#2a3f5f",
             "gridcolor": "white",
             "linecolor": "white",
             "minorgridcolor": "white",
             "startlinecolor": "#2a3f5f"
            },
            "type": "carpet"
           }
          ],
          "choropleth": [
           {
            "colorbar": {
             "outlinewidth": 0,
             "ticks": ""
            },
            "type": "choropleth"
           }
          ],
          "contour": [
           {
            "colorbar": {
             "outlinewidth": 0,
             "ticks": ""
            },
            "colorscale": [
             [
              0,
              "#0d0887"
             ],
             [
              0.1111111111111111,
              "#46039f"
             ],
             [
              0.2222222222222222,
              "#7201a8"
             ],
             [
              0.3333333333333333,
              "#9c179e"
             ],
             [
              0.4444444444444444,
              "#bd3786"
             ],
             [
              0.5555555555555556,
              "#d8576b"
             ],
             [
              0.6666666666666666,
              "#ed7953"
             ],
             [
              0.7777777777777778,
              "#fb9f3a"
             ],
             [
              0.8888888888888888,
              "#fdca26"
             ],
             [
              1,
              "#f0f921"
             ]
            ],
            "type": "contour"
           }
          ],
          "contourcarpet": [
           {
            "colorbar": {
             "outlinewidth": 0,
             "ticks": ""
            },
            "type": "contourcarpet"
           }
          ],
          "heatmap": [
           {
            "colorbar": {
             "outlinewidth": 0,
             "ticks": ""
            },
            "colorscale": [
             [
              0,
              "#0d0887"
             ],
             [
              0.1111111111111111,
              "#46039f"
             ],
             [
              0.2222222222222222,
              "#7201a8"
             ],
             [
              0.3333333333333333,
              "#9c179e"
             ],
             [
              0.4444444444444444,
              "#bd3786"
             ],
             [
              0.5555555555555556,
              "#d8576b"
             ],
             [
              0.6666666666666666,
              "#ed7953"
             ],
             [
              0.7777777777777778,
              "#fb9f3a"
             ],
             [
              0.8888888888888888,
              "#fdca26"
             ],
             [
              1,
              "#f0f921"
             ]
            ],
            "type": "heatmap"
           }
          ],
          "heatmapgl": [
           {
            "colorbar": {
             "outlinewidth": 0,
             "ticks": ""
            },
            "colorscale": [
             [
              0,
              "#0d0887"
             ],
             [
              0.1111111111111111,
              "#46039f"
             ],
             [
              0.2222222222222222,
              "#7201a8"
             ],
             [
              0.3333333333333333,
              "#9c179e"
             ],
             [
              0.4444444444444444,
              "#bd3786"
             ],
             [
              0.5555555555555556,
              "#d8576b"
             ],
             [
              0.6666666666666666,
              "#ed7953"
             ],
             [
              0.7777777777777778,
              "#fb9f3a"
             ],
             [
              0.8888888888888888,
              "#fdca26"
             ],
             [
              1,
              "#f0f921"
             ]
            ],
            "type": "heatmapgl"
           }
          ],
          "histogram": [
           {
            "marker": {
             "pattern": {
              "fillmode": "overlay",
              "size": 10,
              "solidity": 0.2
             }
            },
            "type": "histogram"
           }
          ],
          "histogram2d": [
           {
            "colorbar": {
             "outlinewidth": 0,
             "ticks": ""
            },
            "colorscale": [
             [
              0,
              "#0d0887"
             ],
             [
              0.1111111111111111,
              "#46039f"
             ],
             [
              0.2222222222222222,
              "#7201a8"
             ],
             [
              0.3333333333333333,
              "#9c179e"
             ],
             [
              0.4444444444444444,
              "#bd3786"
             ],
             [
              0.5555555555555556,
              "#d8576b"
             ],
             [
              0.6666666666666666,
              "#ed7953"
             ],
             [
              0.7777777777777778,
              "#fb9f3a"
             ],
             [
              0.8888888888888888,
              "#fdca26"
             ],
             [
              1,
              "#f0f921"
             ]
            ],
            "type": "histogram2d"
           }
          ],
          "histogram2dcontour": [
           {
            "colorbar": {
             "outlinewidth": 0,
             "ticks": ""
            },
            "colorscale": [
             [
              0,
              "#0d0887"
             ],
             [
              0.1111111111111111,
              "#46039f"
             ],
             [
              0.2222222222222222,
              "#7201a8"
             ],
             [
              0.3333333333333333,
              "#9c179e"
             ],
             [
              0.4444444444444444,
              "#bd3786"
             ],
             [
              0.5555555555555556,
              "#d8576b"
             ],
             [
              0.6666666666666666,
              "#ed7953"
             ],
             [
              0.7777777777777778,
              "#fb9f3a"
             ],
             [
              0.8888888888888888,
              "#fdca26"
             ],
             [
              1,
              "#f0f921"
             ]
            ],
            "type": "histogram2dcontour"
           }
          ],
          "mesh3d": [
           {
            "colorbar": {
             "outlinewidth": 0,
             "ticks": ""
            },
            "type": "mesh3d"
           }
          ],
          "parcoords": [
           {
            "line": {
             "colorbar": {
              "outlinewidth": 0,
              "ticks": ""
             }
            },
            "type": "parcoords"
           }
          ],
          "pie": [
           {
            "automargin": true,
            "type": "pie"
           }
          ],
          "scatter": [
           {
            "fillpattern": {
             "fillmode": "overlay",
             "size": 10,
             "solidity": 0.2
            },
            "type": "scatter"
           }
          ],
          "scatter3d": [
           {
            "line": {
             "colorbar": {
              "outlinewidth": 0,
              "ticks": ""
             }
            },
            "marker": {
             "colorbar": {
              "outlinewidth": 0,
              "ticks": ""
             }
            },
            "type": "scatter3d"
           }
          ],
          "scattercarpet": [
           {
            "marker": {
             "colorbar": {
              "outlinewidth": 0,
              "ticks": ""
             }
            },
            "type": "scattercarpet"
           }
          ],
          "scattergeo": [
           {
            "marker": {
             "colorbar": {
              "outlinewidth": 0,
              "ticks": ""
             }
            },
            "type": "scattergeo"
           }
          ],
          "scattergl": [
           {
            "marker": {
             "colorbar": {
              "outlinewidth": 0,
              "ticks": ""
             }
            },
            "type": "scattergl"
           }
          ],
          "scattermapbox": [
           {
            "marker": {
             "colorbar": {
              "outlinewidth": 0,
              "ticks": ""
             }
            },
            "type": "scattermapbox"
           }
          ],
          "scatterpolar": [
           {
            "marker": {
             "colorbar": {
              "outlinewidth": 0,
              "ticks": ""
             }
            },
            "type": "scatterpolar"
           }
          ],
          "scatterpolargl": [
           {
            "marker": {
             "colorbar": {
              "outlinewidth": 0,
              "ticks": ""
             }
            },
            "type": "scatterpolargl"
           }
          ],
          "scatterternary": [
           {
            "marker": {
             "colorbar": {
              "outlinewidth": 0,
              "ticks": ""
             }
            },
            "type": "scatterternary"
           }
          ],
          "surface": [
           {
            "colorbar": {
             "outlinewidth": 0,
             "ticks": ""
            },
            "colorscale": [
             [
              0,
              "#0d0887"
             ],
             [
              0.1111111111111111,
              "#46039f"
             ],
             [
              0.2222222222222222,
              "#7201a8"
             ],
             [
              0.3333333333333333,
              "#9c179e"
             ],
             [
              0.4444444444444444,
              "#bd3786"
             ],
             [
              0.5555555555555556,
              "#d8576b"
             ],
             [
              0.6666666666666666,
              "#ed7953"
             ],
             [
              0.7777777777777778,
              "#fb9f3a"
             ],
             [
              0.8888888888888888,
              "#fdca26"
             ],
             [
              1,
              "#f0f921"
             ]
            ],
            "type": "surface"
           }
          ],
          "table": [
           {
            "cells": {
             "fill": {
              "color": "#EBF0F8"
             },
             "line": {
              "color": "white"
             }
            },
            "header": {
             "fill": {
              "color": "#C8D4E3"
             },
             "line": {
              "color": "white"
             }
            },
            "type": "table"
           }
          ]
         },
         "layout": {
          "annotationdefaults": {
           "arrowcolor": "#2a3f5f",
           "arrowhead": 0,
           "arrowwidth": 1
          },
          "autotypenumbers": "strict",
          "coloraxis": {
           "colorbar": {
            "outlinewidth": 0,
            "ticks": ""
           }
          },
          "colorscale": {
           "diverging": [
            [
             0,
             "#8e0152"
            ],
            [
             0.1,
             "#c51b7d"
            ],
            [
             0.2,
             "#de77ae"
            ],
            [
             0.3,
             "#f1b6da"
            ],
            [
             0.4,
             "#fde0ef"
            ],
            [
             0.5,
             "#f7f7f7"
            ],
            [
             0.6,
             "#e6f5d0"
            ],
            [
             0.7,
             "#b8e186"
            ],
            [
             0.8,
             "#7fbc41"
            ],
            [
             0.9,
             "#4d9221"
            ],
            [
             1,
             "#276419"
            ]
           ],
           "sequential": [
            [
             0,
             "#0d0887"
            ],
            [
             0.1111111111111111,
             "#46039f"
            ],
            [
             0.2222222222222222,
             "#7201a8"
            ],
            [
             0.3333333333333333,
             "#9c179e"
            ],
            [
             0.4444444444444444,
             "#bd3786"
            ],
            [
             0.5555555555555556,
             "#d8576b"
            ],
            [
             0.6666666666666666,
             "#ed7953"
            ],
            [
             0.7777777777777778,
             "#fb9f3a"
            ],
            [
             0.8888888888888888,
             "#fdca26"
            ],
            [
             1,
             "#f0f921"
            ]
           ],
           "sequentialminus": [
            [
             0,
             "#0d0887"
            ],
            [
             0.1111111111111111,
             "#46039f"
            ],
            [
             0.2222222222222222,
             "#7201a8"
            ],
            [
             0.3333333333333333,
             "#9c179e"
            ],
            [
             0.4444444444444444,
             "#bd3786"
            ],
            [
             0.5555555555555556,
             "#d8576b"
            ],
            [
             0.6666666666666666,
             "#ed7953"
            ],
            [
             0.7777777777777778,
             "#fb9f3a"
            ],
            [
             0.8888888888888888,
             "#fdca26"
            ],
            [
             1,
             "#f0f921"
            ]
           ]
          },
          "colorway": [
           "#636efa",
           "#EF553B",
           "#00cc96",
           "#ab63fa",
           "#FFA15A",
           "#19d3f3",
           "#FF6692",
           "#B6E880",
           "#FF97FF",
           "#FECB52"
          ],
          "font": {
           "color": "#2a3f5f"
          },
          "geo": {
           "bgcolor": "white",
           "lakecolor": "white",
           "landcolor": "#E5ECF6",
           "showlakes": true,
           "showland": true,
           "subunitcolor": "white"
          },
          "hoverlabel": {
           "align": "left"
          },
          "hovermode": "closest",
          "mapbox": {
           "style": "light"
          },
          "paper_bgcolor": "white",
          "plot_bgcolor": "#E5ECF6",
          "polar": {
           "angularaxis": {
            "gridcolor": "white",
            "linecolor": "white",
            "ticks": ""
           },
           "bgcolor": "#E5ECF6",
           "radialaxis": {
            "gridcolor": "white",
            "linecolor": "white",
            "ticks": ""
           }
          },
          "scene": {
           "xaxis": {
            "backgroundcolor": "#E5ECF6",
            "gridcolor": "white",
            "gridwidth": 2,
            "linecolor": "white",
            "showbackground": true,
            "ticks": "",
            "zerolinecolor": "white"
           },
           "yaxis": {
            "backgroundcolor": "#E5ECF6",
            "gridcolor": "white",
            "gridwidth": 2,
            "linecolor": "white",
            "showbackground": true,
            "ticks": "",
            "zerolinecolor": "white"
           },
           "zaxis": {
            "backgroundcolor": "#E5ECF6",
            "gridcolor": "white",
            "gridwidth": 2,
            "linecolor": "white",
            "showbackground": true,
            "ticks": "",
            "zerolinecolor": "white"
           }
          },
          "shapedefaults": {
           "line": {
            "color": "#2a3f5f"
           }
          },
          "ternary": {
           "aaxis": {
            "gridcolor": "white",
            "linecolor": "white",
            "ticks": ""
           },
           "baxis": {
            "gridcolor": "white",
            "linecolor": "white",
            "ticks": ""
           },
           "bgcolor": "#E5ECF6",
           "caxis": {
            "gridcolor": "white",
            "linecolor": "white",
            "ticks": ""
           }
          },
          "title": {
           "x": 0.05
          },
          "xaxis": {
           "automargin": true,
           "gridcolor": "white",
           "linecolor": "white",
           "ticks": "",
           "title": {
            "standoff": 15
           },
           "zerolinecolor": "white",
           "zerolinewidth": 2
          },
          "yaxis": {
           "automargin": true,
           "gridcolor": "white",
           "linecolor": "white",
           "ticks": "",
           "title": {
            "standoff": 15
           },
           "zerolinecolor": "white",
           "zerolinewidth": 2
          }
         }
        },
        "xaxis": {
         "anchor": "y",
         "categoryarray": [
          "sme",
          "fin",
          "est",
          "smx2_30000",
          "nor",
          "smx2_50000",
          "smx_30000",
          "smx2_40000",
          "smx_50000",
          "smx_40000",
          "fin_sme",
          "nor_sme",
          "est_smx_20000",
          "nor_smx_20000",
          "nor_smx2_20000",
          "nor_smx_30000",
          "transkribus_uten_base",
          "transkribus_med_base"
         ],
         "categoryorder": "array",
         "domain": [
          0,
          1
         ],
         "title": {
          "text": "model"
         }
        },
        "yaxis": {
         "anchor": "x",
         "domain": [
          0,
          1
         ],
         "title": {
          "text": "score_sum"
         }
        }
       }
      }
     },
     "metadata": {},
     "output_type": "display_data"
    }
   ],
   "source": [
    "model_score_sum = {\"model\": [], \"score_sum\": []}\n",
    "for model, df_ in score_df.groupby(\"model\"):\n",
    "    score_sum = df_.value.sum()\n",
    "    model_score_sum[\"model\"].append(model)\n",
    "    model_score_sum[\"score_sum\"].append(score_sum)\n",
    "\n",
    "pd.DataFrame(model_score_sum).sort_values(\"score_sum\").plot.bar(x=\"model\", y=\"score_sum\", color=\"model\")"
   ]
  },
  {
   "cell_type": "markdown",
   "metadata": {},
   "source": [
    "# Find test set examples where models perform well and not so well"
   ]
  },
  {
   "cell_type": "code",
   "execution_count": 14,
   "metadata": {},
   "outputs": [
    {
     "data": {
      "text/plain": [
       "(3, 21)"
      ]
     },
     "execution_count": 14,
     "metadata": {},
     "output_type": "execute_result"
    }
   ],
   "source": [
    "names = [e.model_name[0] for e in dfs]\n",
    "dfs_ = [df for name, df in zip(names, dfs) if \"sme\" not in name]\n",
    "correct_predictions = pd.Series([0]*len(dfs_[0]))\n",
    "\n",
    "for df in dfs_:\n",
    "    correct_predictions += df.correct_prediction\n",
    "\n",
    "num_dfs = len(dfs_)\n",
    "\n",
    "all_correct = correct_predictions.apply(lambda x: x == num_dfs)\n",
    "none_correct = correct_predictions.apply(lambda x: x == 0)\n",
    "\n",
    "all_correct_df = dfs_[0][all_correct][[\"ground_truth\", \"image\"]]\n",
    "none_correct_df = dfs_[0][none_correct][[\"ground_truth\", \"image\"]]\n",
    "len(all_correct_df), len(none_correct_df)"
   ]
  },
  {
   "cell_type": "code",
   "execution_count": 15,
   "metadata": {},
   "outputs": [
    {
     "data": {
      "text/plain": [
       "(21, 9)"
      ]
     },
     "execution_count": 15,
     "metadata": {},
     "output_type": "execute_result"
    }
   ],
   "source": [
    "from PIL import Image\n",
    " \n",
    "testdata_path = Path(\"data/test\")\n",
    "\n",
    "streker = {'-', '–', '—', '_'}  \n",
    "contains_streker = 0\n",
    "\n",
    "for e in none_correct_df.itertuples():\n",
    "    chars = set(e.ground_truth)\n",
    "    if streker.intersection(chars):\n",
    "        contains_streker += 1\n",
    "        # img = Image.open(testdata_path / e.image)\n",
    "        # print(\"\\n######################\")\n",
    "        # display(img)\n",
    "        # print(e.image)\n",
    "        # print(e.ground_truth) \n",
    "\n",
    "    # else:\n",
    "    #     img = Image.open(testdata_path / e.image)\n",
    "    #     print(\"\\n######################\")\n",
    "    #     display(img)\n",
    "    #     print(e.image)\n",
    "    #     print(e.ground_truth) \n",
    "\n",
    "len(none_correct_df), contains_streker"
   ]
  },
  {
   "cell_type": "code",
   "execution_count": 16,
   "metadata": {},
   "outputs": [],
   "source": [
    "# from PIL import Image\n",
    "\n",
    "# testdata_path = Path(\"data/test\")\n",
    "\n",
    "# for e in all_correct_df.itertuples():\n",
    "#     img = Image.open(testdata_path / e.image)\n",
    "#     print(\"\\n######################\")\n",
    "#     display(img)\n",
    "#     print(e.ground_truth)"
   ]
  },
  {
   "cell_type": "code",
   "execution_count": 17,
   "metadata": {},
   "outputs": [],
   "source": [
    "# from PIL import Image\n",
    "\n",
    "# testdata_path = Path(\"data/test\")\n",
    "\n",
    "# for e in none_correct_df.itertuples():\n",
    "#     img = Image.open(testdata_path / e.image)\n",
    "#     print(\"\\n######################\")\n",
    "#     display(img)\n",
    "#     print(e.ground_truth)\n"
   ]
  }
 ],
 "metadata": {
  "kernelspec": {
   "display_name": "venv_samisk",
   "language": "python",
   "name": "python3"
  },
  "language_info": {
   "codemirror_mode": {
    "name": "ipython",
    "version": 3
   },
   "file_extension": ".py",
   "mimetype": "text/x-python",
   "name": "python",
   "nbconvert_exporter": "python",
   "pygments_lexer": "ipython3",
   "version": "3.10.12"
  }
 },
 "nbformat": 4,
 "nbformat_minor": 2
}
