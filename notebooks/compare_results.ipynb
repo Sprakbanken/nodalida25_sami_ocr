{
 "cells": [
  {
   "cell_type": "markdown",
   "metadata": {},
   "source": [
    "# Visualize and print results on test set "
   ]
  },
  {
   "cell_type": "code",
   "execution_count": null,
   "metadata": {},
   "outputs": [],
   "source": [
    "from pathlib import Path\n",
    "import pandas as pd\n",
    "import json\n",
    "from collections import defaultdict\n",
    "\n",
    "pd.options.plotting.backend = \"plotly\"\n",
    "\n",
    "plot_data = defaultdict(list)\n",
    "score_data = defaultdict(list)\n",
    "\n",
    "for level in Path(\"../output/evaluation/\").iterdir():\n",
    "    for model_dir in level.iterdir():\n",
    "        model_name = f\"{model_dir.name}_{level.name}\"\n",
    "        collection_level = json.loads((model_dir / \"all_rows.json\").read_text())\n",
    "\n",
    "        score_data[\"model\"].append(model_name)\n",
    "\n",
    "        for score_name, value in collection_level.items():\n",
    "            plot_data[\"model\"].append(model_name)\n",
    "            plot_data[\"score\"].append(score_name)\n",
    "            plot_data[\"value\"].append(value)\n",
    "\n",
    "            # add inverted score\n",
    "            plot_data[\"model\"].append(model_name)\n",
    "            plot_data[\"score\"].append(f\"1 - {score_name}\")\n",
    "            plot_data[\"value\"].append(1 - value)\n",
    "\n",
    "            score_data[score_name].append(value)\n",
    "\n",
    "\n",
    "plot_data_df = pd.DataFrame(plot_data)"
   ]
  },
  {
   "cell_type": "code",
   "execution_count": null,
   "metadata": {},
   "outputs": [],
   "source": [
    "def get_colors(models: list[str]) -> dict[str, str]:\n",
    "    transkribus_models = [e for e in models if \"transkribus\" in e]\n",
    "    tesseract_models = [e for e in models if \"nor_smx\" in e]\n",
    "\n",
    "    blues = [\"#636EFA\", \"#19D3F3\", \"#00CC96\", \"#AB63FA\"]\n",
    "    reds = [\n",
    "        \"mediumvioletred\",\n",
    "        \"hotpink\",\n",
    "        \"#EF553B\",\n",
    "        \"#FFA15A\",\n",
    "        \"darkmagenta\",\n",
    "        \"#FF6692\",\n",
    "        \"#FF97FF\",\n",
    "        \"red\",\n",
    "        \"orangered\",\n",
    "        \"lightcoral\",\n",
    "    ]\n",
    "\n",
    "    transkribus_models_color_map = {\n",
    "        model: blues[i] for i, model in enumerate(transkribus_models)\n",
    "    }\n",
    "    tesseract_models_color_map = {\n",
    "        model: reds[i] for i, model in enumerate(tesseract_models)\n",
    "    }\n",
    "\n",
    "    return {**transkribus_models_color_map, **tesseract_models_color_map}"
   ]
  },
  {
   "cell_type": "code",
   "execution_count": null,
   "metadata": {},
   "outputs": [],
   "source": [
    "plot_df = plot_data_df[plot_data_df.score.apply(lambda x: \"1\" not in x)]\n",
    "plot_df = plot_df[plot_df.model.apply(lambda x: \"sme\" not in x)]\n",
    "plot_df = plot_df[plot_df.model.apply(lambda x: \"page\" not in x)]\n",
    "plot_df = plot_df[plot_df.model.apply(lambda x: \"20\" in x or \"transkribus\" in x)]\n",
    "plot_df = plot_df[plot_df.score.apply(lambda x: \"CER\" in x)]\n",
    "\n",
    "color_map = get_colors(list(set(plot_df.model)))\n",
    "\n",
    "plot_df = plot_df.sort_values(\"value\")\n",
    "plot_df.plot.bar(\n",
    "    x=\"score\", y=\"value\", color=\"model\", barmode=\"group\", color_discrete_map=color_map\n",
    ")"
   ]
  },
  {
   "cell_type": "code",
   "execution_count": null,
   "metadata": {},
   "outputs": [],
   "source": [
    "plot_df = plot_data_df[plot_data_df.score.apply(lambda x: \"1\" not in x)]\n",
    "plot_df = plot_df[plot_df.model.apply(lambda x: \"sme\" not in x)]\n",
    "plot_df = plot_df[plot_df.model.apply(lambda x: \"page\" not in x)]\n",
    "plot_df = plot_df[plot_df.model.apply(lambda x: \"20\" in x or \"transkribus\" in x)]\n",
    "plot_df = plot_df[plot_df.score.apply(lambda x: \"WER\" in x)]\n",
    "\n",
    "plot_df = plot_df.sort_values(\"value\")\n",
    "plot_df.plot.bar(\n",
    "    x=\"score\", y=\"value\", color=\"model\", barmode=\"group\", color_discrete_map=color_map\n",
    ")"
   ]
  },
  {
   "cell_type": "code",
   "execution_count": null,
   "metadata": {},
   "outputs": [],
   "source": [
    "df = pd.DataFrame(score_data)\n",
    "df.sort_values(\"CER\")"
   ]
  },
  {
   "cell_type": "code",
   "execution_count": null,
   "metadata": {},
   "outputs": [],
   "source": [
    "df = pd.DataFrame(score_data)\n",
    "df.sort_values(\"WER\")"
   ]
  }
 ],
 "metadata": {
  "kernelspec": {
   "display_name": "venv_samisk",
   "language": "python",
   "name": "python3"
  },
  "language_info": {
   "codemirror_mode": {
    "name": "ipython",
    "version": 3
   },
   "file_extension": ".py",
   "mimetype": "text/x-python",
   "name": "python",
   "nbconvert_exporter": "python",
   "pygments_lexer": "ipython3",
   "version": "3.12.4"
  }
 },
 "nbformat": 4,
 "nbformat_minor": 2
}
