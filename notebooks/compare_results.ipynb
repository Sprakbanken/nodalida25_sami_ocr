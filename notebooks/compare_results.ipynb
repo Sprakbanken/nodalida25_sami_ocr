{
 "cells": [
  {
   "cell_type": "markdown",
   "metadata": {},
   "source": [
    "# Visualize and print results on test set "
   ]
  },
  {
   "cell_type": "code",
   "execution_count": null,
   "metadata": {},
   "outputs": [],
   "source": [
    "from pathlib import Path\n",
    "import pandas as pd\n",
    "import json\n",
    "from collections import defaultdict\n",
    "\n",
    "pd.options.plotting.backend = \"plotly\"\n",
    "\n",
    "\n",
    "### CHANGE THIS ###\n",
    "results_dirname = \"../output/evaluering/\"\n",
    "### ---------- ###\n",
    "\n",
    "p = Path(results_dirname)\n",
    "\n",
    "plot_data = defaultdict(list)\n",
    "score_data = defaultdict(list)\n",
    "\n",
    "for model_dir in p.iterdir():\n",
    "    model_name = model_dir.name\n",
    "    collection_level = json.loads((model_dir / \"all_pages.json\").read_text())\n",
    "\n",
    "    score_data[\"model\"].append(model_name)\n",
    "\n",
    "    for score_name, value in collection_level.items():\n",
    "        plot_data[\"model\"].append(model_name)\n",
    "        plot_data[\"score\"].append(score_name)\n",
    "        plot_data[\"value\"].append(value)\n",
    "\n",
    "        # add inverted score\n",
    "        plot_data[\"model\"].append(model_name)\n",
    "        plot_data[\"score\"].append(f\"1 - {score_name}\")\n",
    "        plot_data[\"value\"].append(1 - value)\n",
    "\n",
    "        score_data[score_name].append(value)\n",
    "\n",
    "\n",
    "plot_data_df = pd.DataFrame(plot_data)\n",
    "plot_df = plot_data_df[plot_data_df.score.apply(lambda x: \"1\" in x)]\n",
    "plot_df.plot.bar(x=\"score\", y=\"value\", color=\"model\", barmode=\"group\")"
   ]
  },
  {
   "cell_type": "code",
   "execution_count": null,
   "metadata": {},
   "outputs": [],
   "source": [
    "df = pd.DataFrame(score_data)\n",
    "df.sort_values(\"CER\")"
   ]
  }
 ],
 "metadata": {
  "kernelspec": {
   "display_name": "venv_samisk",
   "language": "python",
   "name": "python3"
  },
  "language_info": {
   "codemirror_mode": {
    "name": "ipython",
    "version": 3
   },
   "file_extension": ".py",
   "mimetype": "text/x-python",
   "name": "python",
   "nbconvert_exporter": "python",
   "pygments_lexer": "ipython3",
   "version": "3.11.8"
  }
 },
 "nbformat": 4,
 "nbformat_minor": 2
}
