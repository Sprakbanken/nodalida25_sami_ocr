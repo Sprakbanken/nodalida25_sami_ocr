{
 "cells": [
  {
   "cell_type": "markdown",
   "metadata": {},
   "source": [
    "# Vektet edit distance"
   ]
  },
  {
   "cell_type": "markdown",
   "metadata": {},
   "source": [
    "## Train\n"
   ]
  },
  {
   "cell_type": "code",
   "execution_count": 8,
   "metadata": {},
   "outputs": [
    {
     "name": "stdout",
     "output_type": "stream",
     "text": [
      "\n",
      "TRENING:\n",
      "Totalt antall linjer:                               5385   \n",
      "Antall linjer uten prediksjon:                      599 eller 11.12%\n",
      "Antall linjer hvor vektet edit distance er høy*:    1015 eller 18.85%\n",
      "\n",
      "\n",
      "TEST:\n",
      "Totalt antall linjer:                               791   \n",
      "Antall linjer uten prediksjon:                      18 eller 2.28%\n",
      "Antall linjer hvor vektet edit distance er høy*:    31 eller 3.92%\n",
      "\n",
      "* høy = over terskelverdien 0.2\n",
      "\n"
     ]
    }
   ],
   "source": [
    "from pathlib import Path \n",
    "from PIL import Image\n",
    "from Levenshtein import distance\n",
    "import pandas as pd \n",
    "\n",
    "df = pd.read_csv(\"output/train_nor_smx_30000_transcriptions_gt.csv\")\n",
    "prev_len = len(df)\n",
    "df = df.dropna()\n",
    "df[\"transcription\"] = df.transcription.apply(str).apply(str.strip)\n",
    "threshold = 0.2\n",
    "\n",
    "train_antall = 0\n",
    "train_path = Path(\"data/train\")\n",
    "for e in df.itertuples():\n",
    "    transcription = e.transcription\n",
    "    line = e.ground_truth\n",
    "    edit_distance =  distance(line, transcription)\n",
    "    if edit_distance/len(line) > threshold:\n",
    "        train_antall += 1\n",
    "\n",
    "\n",
    "print(f\"\"\"\n",
    "TRENING:\n",
    "Totalt antall linjer:                               {prev_len}   \n",
    "Antall linjer uten prediksjon:                      {prev_len-len(df)} eller {round((prev_len-len(df))/prev_len*100, 2)}%\n",
    "Antall linjer hvor vektet edit distance er høy*:    {train_antall} eller {round(train_antall/prev_len*100, 2)}%\n",
    "\"\"\")\n",
    "\n",
    "\n",
    "df = pd.read_csv(\"output/test_nor_smx_30000_transcriptions_gt.csv\")\n",
    "prev_len = len(df)\n",
    "df = df.dropna()\n",
    "df[\"transcription\"] = df.transcription.apply(str).apply(str.strip)\n",
    "\n",
    "test_antall = 0\n",
    "test_path = Path(\"data/test\")\n",
    "for e in df.itertuples():\n",
    "    transcription = e.transcription\n",
    "    line = e.ground_truth\n",
    "    edit_distance =  distance(line, transcription)\n",
    "    if edit_distance/len(line) > threshold:\n",
    "        test_antall += 1\n",
    "    \n",
    "print(f\"\"\"\n",
    "TEST:\n",
    "Totalt antall linjer:                               {prev_len}   \n",
    "Antall linjer uten prediksjon:                      {prev_len-len(df)} eller {round((prev_len-len(df))/prev_len*100, 2)}%\n",
    "Antall linjer hvor vektet edit distance er høy*:    {test_antall} eller {round(test_antall/prev_len*100, 2)}%\n",
    "\n",
    "* høy = over terskelverdien {threshold}\n",
    "\"\"\")\n"
   ]
  },
  {
   "cell_type": "markdown",
   "metadata": {},
   "source": [
    "\n",
    "## Test"
   ]
  },
  {
   "cell_type": "code",
   "execution_count": 1,
   "metadata": {},
   "outputs": [
    {
     "name": "stdout",
     "output_type": "stream",
     "text": [
      "Antall linjer hvor vektet edit distance er høy: 57\n"
     ]
    }
   ],
   "source": [
    "from pathlib import Path \n",
    "from PIL import Image\n",
    "from Levenshtein import distance\n",
    "import pandas as pd \n",
    "\n",
    "df = pd.read_csv(\"output/test_nor_smx_30000_transcriptions_gt.csv\")\n",
    "df = df.dropna()\n",
    "df[\"transcription\"] = df.transcription.apply(str).apply(str.strip)\n",
    "\n",
    "test_antall = 0\n",
    "test_path = Path(\"data/test\")\n",
    "for e in df.itertuples():\n",
    "    \n",
    "    urn = e.image[:-20]\n",
    "    transcription = e.transcription\n",
    "    line = e.ground_truth\n",
    "    edit_distance =  distance(line, transcription)\n",
    "    if edit_distance/len(line) > 0.1:\n",
    "        test_antall += 1\n",
    "        # print(\"filnavn:\", urn)\n",
    "        # print(\"fasit:\",line)\n",
    "        # print(\"modelltranskripsjon:\", transcription)\n",
    "        # print(\"edit distance over lengde:\", edit_distance/len(line), \"\\nbilde:\")\n",
    "\n",
    "        # image = next(test_path.glob(f\"{urn}*.tif\"))\n",
    "        # img = Image.open(image)\n",
    "        # display(img)\n",
    "        # print(\"-----\\n\")\n",
    "    \n",
    "print(f\"Antall linjer hvor vektet edit distance er høy: {test_antall}\")"
   ]
  }
 ],
 "metadata": {
  "kernelspec": {
   "display_name": "venv_samisk",
   "language": "python",
   "name": "python3"
  },
  "language_info": {
   "codemirror_mode": {
    "name": "ipython",
    "version": 3
   },
   "file_extension": ".py",
   "mimetype": "text/x-python",
   "name": "python",
   "nbconvert_exporter": "python",
   "pygments_lexer": "ipython3",
   "version": "3.10.12"
  }
 },
 "nbformat": 4,
 "nbformat_minor": 2
}
