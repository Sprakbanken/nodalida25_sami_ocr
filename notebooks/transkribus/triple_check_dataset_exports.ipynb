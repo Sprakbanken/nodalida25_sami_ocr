{
 "cells": [
  {
   "cell_type": "code",
   "execution_count": 2,
   "metadata": {},
   "outputs": [],
   "source": [
    "from pathlib import Path\n",
    "\n",
    "import pandas as pd\n",
    "from ordbilder.annotations import get_annotation_information\n",
    "\n",
    "p1 = Path(\"../../data/transkribus_exports/check/Testsett_Samisk_OCR_nytest\")\n",
    "p2 = Path(\"../../data/transkribus_exports/test_data/2997983/Testsett_Samisk_OCR\")\n",
    "df = pd.read_csv(\"../../data/samisk_ocr_dataset/test/_metadata.csv\")\n",
    "\n",
    "\n",
    "old_xml_files = sorted(list(p1.glob(\"alto/*.xml\")))\n",
    "new_xml_files = sorted(list(p2.glob(\"alto/*.xml\")))\n",
    "\n",
    "file_names = []\n",
    "\n",
    "\n",
    "for old, new in zip(old_xml_files, new_xml_files):\n",
    "    assert old.name == new.name\n",
    "    old_annotations = get_annotation_information(old)\n",
    "    new_annotations = get_annotation_information(new)\n",
    "\n",
    "    for i, (annotation_old, annotation_new) in enumerate(zip(old_annotations, new_annotations)):\n",
    "        assert annotation_old[\"word\"] == annotation_new[\"word\"]\n",
    "        assert annotation_old[\"bbox\"] == annotation_new[\"bbox\"]\n",
    "        x1, y1, x2, y2 = annotation_old[\"bbox\"]\n",
    "\n",
    "        file_names.append(f\"{old.stem}_{i:03d}_{x1:04d}_{y1:04d}_{x2:04d}_{y2:04d}.jpg\")\n",
    "\n",
    "assert len(df[df.file_name.isin(file_names)]) == len(df)"
   ]
  }
 ],
 "metadata": {
  "kernelspec": {
   "display_name": ".venv",
   "language": "python",
   "name": "python3"
  },
  "language_info": {
   "codemirror_mode": {
    "name": "ipython",
    "version": 3
   },
   "file_extension": ".py",
   "mimetype": "text/x-python",
   "name": "python",
   "nbconvert_exporter": "python",
   "pygments_lexer": "ipython3",
   "version": "3.12.4"
  }
 },
 "nbformat": 4,
 "nbformat_minor": 2
}
