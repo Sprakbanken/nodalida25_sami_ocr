{
 "cells": [
  {
   "cell_type": "code",
   "execution_count": 1,
   "metadata": {},
   "outputs": [],
   "source": [
    "from pathlib import Path\n",
    "\n",
    "import pandas as pd\n",
    "\n",
    "from samisk_ocr.transkribus.export_to_prediction_file import get_line_transcriptions\n",
    "from samisk_ocr.transkribus.map_transkribus_lines_to_gt_lines import (\n",
    "    find_image_with_biggest_bbox_overlap,\n",
    "    line_image_dir_to_urn_line_bbox_df,\n",
    ")\n",
    "from samisk_ocr.utils import image_stem_to_pageurn_line_bbox\n",
    "\n",
    "p1 = Path(\"../../data/transkribus_exports/predictions/val_set/our_line_level_layout_w_lm\")\n",
    "p2 = Path(\"../../data/transkribus_exports/predictions/val_set/our_line_level_layout_wo_lm\")\n",
    "\n",
    "gt_image_dir = Path(\"../../data/samisk_ocr_dataset/val\")\n",
    "gt_df = line_image_dir_to_urn_line_bbox_df(image_dir=gt_image_dir)\n",
    "\n",
    "gt_df_metadata = pd.read_csv(\"../../data/samisk_ocr_dataset/val/_metadata.csv\")\n",
    "gt_df = gt_df_metadata.merge(gt_df, left_on=[\"file_name\", \"line\"], right_on=[\"image\", \"line\"])\n",
    "assert len(gt_df_metadata) == len(gt_df)\n",
    "\n",
    "example_bbox_suffix = \"_0248_0393_1731_0416\"\n",
    "\n",
    "diff_dfs = []\n",
    "gt_diff = None\n",
    "\n",
    "for p in (p1, p2):\n",
    "    # print(p.name)\n",
    "    for model_dir in p.iterdir():\n",
    "        if model_dir.name == \"old\":\n",
    "            continue\n",
    "        prediction_df = get_line_transcriptions(model_dir, keep_source_imgs=True)\n",
    "        transkribus_image_stems = prediction_df.image.apply(lambda x: Path(x).stem)\n",
    "        page_urns, lines, bboxes = zip(\n",
    "            *transkribus_image_stems.apply(image_stem_to_pageurn_line_bbox)\n",
    "        )\n",
    "        prediction_df[\"page_urn\"] = page_urns\n",
    "        prediction_df[\"line\"] = lines\n",
    "        prediction_df[\"bbox\"] = bboxes\n",
    "\n",
    "        df = gt_df.merge(prediction_df, on=[\"page_urn\", \"line\", \"bbox\"])\n",
    "\n",
    "        # print(\"\\t\", model_dir.name)\n",
    "        # print(\n",
    "        # f\"\\t Antall rader med lik bbox {len(df)} av {len(gt_df)}  ({round((len(df)/len(gt_df)*100),2)}%)\\n\"\n",
    "        # )\n",
    "        df_diff = prediction_df.merge(\n",
    "            gt_df, on=[\"page_urn\", \"line\", \"bbox\"], how=\"outer\", indicator=True\n",
    "        )\n",
    "        df_diff = df_diff[df_diff[\"_merge\"] == \"left_only\"].drop(columns=[\"_merge\"])[\n",
    "            [\"transcription\", \"page_urn\", \"line\", \"bbox\", \"source_image\"]\n",
    "        ]\n",
    "        diff_dfs.append(df_diff)\n",
    "\n",
    "        if gt_diff is None:\n",
    "            gt_diff = gt_df.merge(\n",
    "                prediction_df, on=[\"page_urn\", \"line\", \"bbox\"], how=\"outer\", indicator=True\n",
    "            )\n",
    "            gt_diff = gt_diff[gt_diff[\"_merge\"] == \"left_only\"].drop(\n",
    "                columns=[\"_merge\", \"image_y\", \"transcription\", \"source_image\", \"image_x\"]\n",
    "            )\n",
    "        # print(\n",
    "        #     f\"\\t Antall rader med ulik bbox {len(df_diff)} av {len(gt_df)}  ({round((len(df_diff)/len(gt_df)*100),2)}%)\\n\"\n",
    "        # )\n",
    "\n",
    "        # for page_urn, df_ in df_diff.groupby(\"page_urn\"):\n",
    "        # print(f\"\\t\\t Sideurn: {page_urn}\\n\\t\\t Antall linjebokser forskjellig: {len(df_)}\")"
   ]
  },
  {
   "cell_type": "code",
   "execution_count": null,
   "metadata": {},
   "outputs": [],
   "source": [
    "for i in range(len(diff_dfs)):\n",
    "    assert all(diff_dfs[i - 1] == diff_dfs[i])\n",
    "diff_df = diff_dfs[0]\n",
    "diff_df.index = range(len(diff_df))\n",
    "diff_df.head(5)"
   ]
  },
  {
   "cell_type": "code",
   "execution_count": null,
   "metadata": {},
   "outputs": [],
   "source": [
    "gt_diff[\"image\"] = gt_diff.file_name\n",
    "gt_diff.index = range(len(gt_diff))\n",
    "gt_diff.head(2)"
   ]
  },
  {
   "cell_type": "code",
   "execution_count": null,
   "metadata": {},
   "outputs": [],
   "source": [
    "len(diff_df) == len(gt_diff)"
   ]
  },
  {
   "cell_type": "code",
   "execution_count": 5,
   "metadata": {},
   "outputs": [],
   "source": [
    "for tup in diff_df.itertuples():\n",
    "    diff_df.at[tup.Index, \"gt_image\"] = find_image_with_biggest_bbox_overlap(\n",
    "        bbox=tup.bbox, other_df=gt_diff\n",
    "    )"
   ]
  },
  {
   "cell_type": "code",
   "execution_count": 6,
   "metadata": {},
   "outputs": [],
   "source": [
    "diff_df = diff_df.merge(\n",
    "    gt_diff, left_on=\"gt_image\", right_on=\"file_name\", suffixes=[\"_transkribus\", \"_gt\"]\n",
    ")"
   ]
  },
  {
   "cell_type": "code",
   "execution_count": null,
   "metadata": {},
   "outputs": [],
   "source": [
    "from PIL import Image\n",
    "\n",
    "p = Path(\"../../data/transkribus_exports/predictions/val_set/our_line_level_layout_w_lm/smi\")\n",
    "\n",
    "for tup in diff_df.itertuples():\n",
    "    img = Image.open(p / tup.source_image)\n",
    "    img2 = img.crop(tup.bbox_transkribus)\n",
    "    img3 = img.crop(tup.bbox_gt)\n",
    "\n",
    "    print(f\"Transkribus box {tup.bbox_transkribus}\")\n",
    "    print(f\"Transcription: {tup.transcription}\")\n",
    "\n",
    "    display(img2)\n",
    "\n",
    "    print(f\"GT box {tup.bbox_gt}\")\n",
    "    print(f\"Annotation: {tup.text}\")\n",
    "    display(img3)"
   ]
  }
 ],
 "metadata": {
  "kernelspec": {
   "display_name": ".venv",
   "language": "python",
   "name": "python3"
  },
  "language_info": {
   "codemirror_mode": {
    "name": "ipython",
    "version": 3
   },
   "file_extension": ".py",
   "mimetype": "text/x-python",
   "name": "python",
   "nbconvert_exporter": "python",
   "pygments_lexer": "ipython3",
   "version": "3.12.4"
  }
 },
 "nbformat": 4,
 "nbformat_minor": 2
}
