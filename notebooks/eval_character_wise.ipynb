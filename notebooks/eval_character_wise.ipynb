{
 "cells": [
  {
   "cell_type": "markdown",
   "metadata": {},
   "source": [
    "# Character-wise results"
   ]
  },
  {
   "cell_type": "code",
   "execution_count": null,
   "metadata": {},
   "outputs": [],
   "source": [
    "import json\n",
    "from collections import defaultdict\n",
    "from pathlib import Path\n",
    "\n",
    "import pandas as pd\n",
    "\n",
    "pd.options.plotting.backend = \"plotly\"\n",
    "\n",
    "character_data = defaultdict(list)\n",
    "\n",
    "for level in Path(\"../output/evaluation/\").iterdir():\n",
    "    for model_dir in level.iterdir():\n",
    "        model_name = f\"{model_dir.name}_{level.name}\"\n",
    "        collection_level = json.loads((model_dir / \"all_rows.json\").read_text())\n",
    "\n",
    "        # score_data[\"model\"].append(model_name)\n",
    "\n",
    "        for character, score_dict in collection_level.items():\n",
    "            if type(score_dict) is not dict:\n",
    "                continue\n",
    "            character_data[\"model\"].append(model_name)\n",
    "            character_data[\"F1_score\"].append(score_dict[\"F1\"])\n",
    "            character_data[\"character\"].append(character)\n",
    "\n",
    "char_df = pd.DataFrame(character_data)"
   ]
  },
  {
   "cell_type": "code",
   "execution_count": null,
   "metadata": {},
   "outputs": [],
   "source": [
    "import dash\n",
    "import plotly.express as px\n",
    "from dash import Input, Output, dcc, html\n",
    "\n",
    "app = dash.Dash(__name__)\n",
    "\n",
    "app.layout = html.Div(\n",
    "    [\n",
    "        dcc.Dropdown(\n",
    "            id=\"character-dropdown\",\n",
    "            options=char_df.character.unique(),\n",
    "            value=\"Ä\",\n",
    "        ),\n",
    "        dcc.Graph(id=\"bar-chart\"),\n",
    "    ]\n",
    ")\n",
    "\n",
    "\n",
    "@app.callback(Output(\"bar-chart\", \"figure\"), [Input(\"character-dropdown\", \"value\")])\n",
    "def update_bar_chart(selected_character):  # noqa\n",
    "    filtered_df = char_df[char_df.character == selected_character]\n",
    "    filtered_df = filtered_df.sort_values(\"F1_score\")\n",
    "    fig = px.bar(\n",
    "        filtered_df,\n",
    "        x=\"model\",\n",
    "        y=\"F1_score\",\n",
    "        barmode=\"group\",\n",
    "        # color_discrete_map=language_color_map,\n",
    "        title=selected_character,\n",
    "    )\n",
    "    return fig\n",
    "\n",
    "\n",
    "if __name__ == \"__main__\":\n",
    "    app.run_server(debug=True)"
   ]
  }
 ],
 "metadata": {
  "kernelspec": {
   "display_name": ".venv",
   "language": "python",
   "name": "python3"
  },
  "language_info": {
   "codemirror_mode": {
    "name": "ipython",
    "version": 3
   },
   "file_extension": ".py",
   "mimetype": "text/x-python",
   "name": "python",
   "nbconvert_exporter": "python",
   "pygments_lexer": "ipython3",
   "version": "3.12.4"
  }
 },
 "nbformat": 4,
 "nbformat_minor": 2
}
