{
 "cells": [
  {
   "cell_type": "code",
   "execution_count": 30,
   "metadata": {},
   "outputs": [],
   "source": [
    "import pandas as pd\n",
    "from pathlib import Path \n",
    "\n",
    "### CHANGE THESE ###\n",
    "ground_truth_dir = \"data/test\"\n",
    "prediction_dir = \"output/transkribus_uten_base/\"\n",
    "model_name = \"transkribus_uten_base\"\n",
    "### ------------ ###\n",
    "\n",
    "prediction_dir = Path(prediction_dir)\n",
    "ground_truth_dir = Path(ground_truth_dir)\n",
    "metadata_df = pd.read_csv(prediction_dir / \"metadata.csv\")\n",
    "\n",
    "# Det har skjedd noe rart med boksene...\n",
    "gt_txt_files = {e for e in ground_truth_dir.iterdir() if e.name.endswith(\".txt\")}\n",
    "predction_txt_files = {ground_truth_dir / f\"{Path(e.word_image).stem}.gt.txt\" for e in metadata_df.itertuples()}\n",
    "\n",
    "assert len(gt_txt_files) == len(predction_txt_files)\n",
    "\n",
    "pred_ = sorted(list(predction_txt_files - gt_txt_files))\n",
    "gt_ = sorted(list(gt_txt_files - predction_txt_files))\n",
    "pred_to_gt_map = {k: v for k, v in zip(pred_, gt_)}\n",
    "\n",
    "transcriptions = {\"model_name\": [], \"image\": [], \"transcription\": [], \"ground_truth\": []}\n",
    "\n",
    "for e in metadata_df.itertuples():\n",
    "    line_img_stem = Path(e.word_image).stem\n",
    "    gt_text_file = ground_truth_dir / f\"{line_img_stem}.gt.txt\"\n",
    "    if not gt_text_file.exists():\n",
    "        gt_text_file = pred_to_gt_map[gt_text_file]\n",
    "    assert gt_text_file.exists()\n",
    "\n",
    "    transcriptions[\"image\"].append(e.word_image)\n",
    "    transcriptions[\"model_name\"].append(model_name)\n",
    "    transcriptions[\"transcription\"].append(e.word)\n",
    "    transcriptions[\"ground_truth\"].append(gt_text_file.read_text())\n",
    "\n",
    "df = pd.DataFrame(transcriptions)\n",
    "df.to_csv(f\"output/{ground_truth_dir.name}_{model_name}_transcriptions_gt.csv\", index=False)"
   ]
  }
 ],
 "metadata": {
  "kernelspec": {
   "display_name": "venv_samisk",
   "language": "python",
   "name": "python3"
  },
  "language_info": {
   "codemirror_mode": {
    "name": "ipython",
    "version": 3
   },
   "file_extension": ".py",
   "mimetype": "text/x-python",
   "name": "python",
   "nbconvert_exporter": "python",
   "pygments_lexer": "ipython3",
   "version": "3.10.12"
  }
 },
 "nbformat": 4,
 "nbformat_minor": 2
}
