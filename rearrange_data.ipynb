{
 "cells": [
  {
   "cell_type": "code",
   "execution_count": null,
   "metadata": {},
   "outputs": [],
   "source": [
    "from pathlib import Path \n",
    "import pandas as pd\n",
    "from PIL import Image\n",
    "\n",
    "### CHANGE THESE ###\n",
    "source_data_dir = \"\"    # directory with output from hugin-munin-ordbilder.scripts.create_unadjusted_dataset\n",
    "destination_data_dir = \"\"\n",
    "### ------------ ###\n",
    "\n",
    "source_data_dir = Path(source_data_dir)\n",
    "destination_data_dir = Path(destination_data_dir)\n",
    "destination_data_dir.mkdir(parents=True, exist_ok=True)\n",
    "\n",
    "metadata_df = pd.read_csv(source_data_dir / \"metadata.csv\")\n",
    "\n",
    "for e in metadata_df.itertuples():\n",
    "    line_image_path = source_data_dir / e.word_image\n",
    "    assert line_image_path.exists()\n",
    "\n",
    "    file_stem = line_image_path.stem\n",
    "    new_image_path = destination_data_dir / f\"{file_stem}.tif\"\n",
    "\n",
    "    img = Image.open(line_image_path)\n",
    "    img.save(new_image_path)\n",
    "\n",
    "    transcription = e.word\n",
    "    transcription = transcription.replace('\\xa0', ' ')\n",
    "    text_path = destination_data_dir / f\"{file_stem}.gt.txt\"\n",
    "    with text_path.open(\"w+\") as f:\n",
    "        f.write(transcription)\n"
   ]
  }
 ],
 "metadata": {
  "kernelspec": {
   "display_name": "venv_samisk",
   "language": "python",
   "name": "python3"
  },
  "language_info": {
   "codemirror_mode": {
    "name": "ipython",
    "version": 3
   },
   "file_extension": ".py",
   "mimetype": "text/x-python",
   "name": "python",
   "nbconvert_exporter": "python",
   "pygments_lexer": "ipython3",
   "version": "3.10.12"
  }
 },
 "nbformat": 4,
 "nbformat_minor": 2
}
